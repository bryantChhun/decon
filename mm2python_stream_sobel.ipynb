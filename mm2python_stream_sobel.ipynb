{
 "cells": [
  {
   "cell_type": "code",
   "execution_count": 9,
   "metadata": {
    "collapsed": true
   },
   "outputs": [],
   "source": [
    "%gui qt5\n",
    "from py4j.java_gateway import JavaGateway\n",
    "from napari import ViewerApp\n",
    "import cv2\n",
    "import time\n",
    "import numpy as np\n",
    "from PyQt5.QtCore import QThreadPool, QRunnable\n",
    "import warnings\n",
    "warnings.filterwarnings('ignore')"
   ]
  },
  {
   "cell_type": "code",
   "execution_count": 2,
   "metadata": {},
   "outputs": [],
   "source": [
    "gate = JavaGateway()\n",
    "viewer = ViewerApp()\n"
   ]
  },
  {
   "cell_type": "code",
   "execution_count": null,
   "metadata": {},
   "outputs": [],
   "source": [
    "layer1 = viewer.add_image(np.memmap('Q:\\Snap-Live-Stream.dat',\n",
    "                                    dtype=np.uint16, offset=0,\n",
    "                                    mode='r',\n",
    "                                    shape=(2048, 2048)))\n"
   ]
  },
  {
   "cell_type": "code",
   "execution_count": 10,
   "metadata": {},
   "outputs": [],
   "source": [
    "class ProcessRunnable(QRunnable):\n",
    "    def __init__(self, target, args):\n",
    "        QRunnable.__init__(self)\n",
    "        self.t = target\n",
    "        self.args = args\n",
    "\n",
    "    def run(self):\n",
    "        self.t(*self.args)\n",
    "\n",
    "    def start(self):\n",
    "        QThreadPool.globalInstance().start(self)\n"
   ]
  },
  {
   "cell_type": "code",
   "execution_count": 11,
   "metadata": {},
   "outputs": [],
   "source": [
    "def stream_data():\n",
    "    count = 0\n",
    "    while True:\n",
    "        time.sleep(0.001)\n",
    "        layer1.image = np.memmap('Q:\\Snap-Live-Stream.dat',\n",
    "                                 dtype=np.uint16, offset=0,\n",
    "                                 mode='r',\n",
    "                                 shape=(2048, 2048))\n",
    "        if count >= 10000:\n",
    "            break\n",
    "        count += 1\n"
   ]
  },
  {
   "cell_type": "code",
   "execution_count": 12,
   "metadata": {},
   "outputs": [],
   "source": [
    "r = ProcessRunnable(target=stream_data, args=())\n",
    "r.start()"
   ]
  },
  {
   "cell_type": "code",
   "execution_count": 14,
   "metadata": {},
   "outputs": [],
   "source": [
    "def cv2_sobel_edge_with_binary(image):\n",
    "\n",
    "    k=3\n",
    "    t=5000\n",
    "    blur = cv2.GaussianBlur(image, (k,k),0)\n",
    "\n",
    "    (t, binary) = cv2.threshold(blur,t, 65534, cv2.THRESH_BINARY_INV)\n",
    "\n",
    "    grad_x = cv2.Sobel(binary, cv2.CV_16U, 2, 0)\n",
    "    grad_y = cv2.Sobel(binary, cv2.CV_16U, 0, 2)\n",
    "\n",
    "    edge = cv2.bitwise_or(grad_x, grad_y)\n",
    "    return edge\n",
    "\n",
    "\n",
    "def stream_sobel():\n",
    "    count = 0\n",
    "    while True:\n",
    "        time.sleep(0.001)\n",
    "        layer1.image = cv2_sobel_edge_with_binary(\n",
    "            np.memmap('Q:\\Snap-Live-Stream.dat',\n",
    "                      dtype=np.uint16, offset=0,\n",
    "                      shape=(2048, 2048))\n",
    "        )\n",
    "        if count >= 10000:\n",
    "            break\n",
    "        count += 1\n"
   ]
  },
  {
   "cell_type": "code",
   "execution_count": 15,
   "metadata": {},
   "outputs": [],
   "source": [
    "r = ProcessRunnable(target=stream_sobel, args=())\n",
    "r.start()"
   ]
  },
  {
   "cell_type": "code",
   "execution_count": null,
   "metadata": {},
   "outputs": [],
   "source": []
  }
 ],
 "metadata": {
  "kernelspec": {
   "display_name": "Python 2",
   "language": "python",
   "name": "python2"
  },
  "language_info": {
   "codemirror_mode": {
    "name": "ipython",
    "version": 2
   },
   "file_extension": ".py",
   "mimetype": "text/x-python",
   "name": "python",
   "nbconvert_exporter": "python",
   "pygments_lexer": "ipython2",
   "version": "2.7.6"
  }
 },
 "nbformat": 4,
 "nbformat_minor": 0
}
