{
 "cells": [
  {
   "cell_type": "code",
   "execution_count": null,
   "metadata": {
    "collapsed": true
   },
   "outputs": [],
   "source": [
    "\"\"\"\n",
    "This script uses mm2python to stream data to napari, as well as processing\n",
    "\"\"\""
   ]
  },
  {
   "cell_type": "code",
   "execution_count": null,
   "metadata": {
    "collapsed": true
   },
   "outputs": [],
   "source": [
    "\n",
    "%gui qt5\n",
    "from py4j.java_gateway import JavaGateway\n",
    "from napari import ViewerApp\n",
    "import cv2\n",
    "import time\n",
    "import numpy as np\n",
    "from PyQt5.QtCore import QThreadPool, QRunnable\n",
    "import warnings\n",
    "warnings.filterwarnings('ignore')\n"
   ]
  },
  {
   "cell_type": "code",
   "execution_count": 3,
   "metadata": {},
   "outputs": [],
   "source": [
    "gate = JavaGateway()\n",
    "viewer = ViewerApp()\n"
   ]
  },
  {
   "cell_type": "code",
   "execution_count": 4,
   "metadata": {},
   "outputs": [
    {
     "ename": "OSError",
     "evalue": "[WinError 8] Not enough storage is available to process this command",
     "traceback": [
      "\u001b[1;31m---------------------------------------------------------------------------\u001b[0m",
      "\u001b[1;31mOSError\u001b[0m                                   Traceback (most recent call last)",
      "\u001b[1;32m<ipython-input-4-f185b4709110>\u001b[0m in \u001b[0;36m<module>\u001b[1;34m\u001b[0m\n\u001b[0;32m      2\u001b[0m                                     \u001b[0mdtype\u001b[0m\u001b[1;33m=\u001b[0m\u001b[0mnp\u001b[0m\u001b[1;33m.\u001b[0m\u001b[0muint16\u001b[0m\u001b[1;33m,\u001b[0m \u001b[0moffset\u001b[0m\u001b[1;33m=\u001b[0m\u001b[1;36m0\u001b[0m\u001b[1;33m,\u001b[0m\u001b[1;33m\u001b[0m\u001b[1;33m\u001b[0m\u001b[0m\n\u001b[0;32m      3\u001b[0m                                     \u001b[0mmode\u001b[0m\u001b[1;33m=\u001b[0m\u001b[1;34m'r'\u001b[0m\u001b[1;33m,\u001b[0m\u001b[1;33m\u001b[0m\u001b[1;33m\u001b[0m\u001b[0m\n\u001b[1;32m----> 4\u001b[1;33m                                     shape=(2048, 2048)))\n\u001b[0m\u001b[0;32m      5\u001b[0m \u001b[1;33m\u001b[0m\u001b[0m\n\u001b[0;32m      6\u001b[0m \u001b[1;33m\u001b[0m\u001b[0m\n",
      "\u001b[1;32m~\\AppData\\Local\\conda\\conda\\envs\\ReconOrder\\lib\\site-packages\\numpy\\core\\memmap.py\u001b[0m in \u001b[0;36m__new__\u001b[1;34m(subtype, filename, dtype, mode, offset, shape, order)\u001b[0m\n\u001b[0;32m    262\u001b[0m             \u001b[0mbytes\u001b[0m \u001b[1;33m-=\u001b[0m \u001b[0mstart\u001b[0m\u001b[1;33m\u001b[0m\u001b[1;33m\u001b[0m\u001b[0m\n\u001b[0;32m    263\u001b[0m             \u001b[0marray_offset\u001b[0m \u001b[1;33m=\u001b[0m \u001b[0moffset\u001b[0m \u001b[1;33m-\u001b[0m \u001b[0mstart\u001b[0m\u001b[1;33m\u001b[0m\u001b[1;33m\u001b[0m\u001b[0m\n\u001b[1;32m--> 264\u001b[1;33m             \u001b[0mmm\u001b[0m \u001b[1;33m=\u001b[0m \u001b[0mmmap\u001b[0m\u001b[1;33m.\u001b[0m\u001b[0mmmap\u001b[0m\u001b[1;33m(\u001b[0m\u001b[0mfid\u001b[0m\u001b[1;33m.\u001b[0m\u001b[0mfileno\u001b[0m\u001b[1;33m(\u001b[0m\u001b[1;33m)\u001b[0m\u001b[1;33m,\u001b[0m \u001b[0mbytes\u001b[0m\u001b[1;33m,\u001b[0m \u001b[0maccess\u001b[0m\u001b[1;33m=\u001b[0m\u001b[0macc\u001b[0m\u001b[1;33m,\u001b[0m \u001b[0moffset\u001b[0m\u001b[1;33m=\u001b[0m\u001b[0mstart\u001b[0m\u001b[1;33m)\u001b[0m\u001b[1;33m\u001b[0m\u001b[1;33m\u001b[0m\u001b[0m\n\u001b[0m\u001b[0;32m    265\u001b[0m \u001b[1;33m\u001b[0m\u001b[0m\n\u001b[0;32m    266\u001b[0m             self = ndarray.__new__(subtype, shape, dtype=descr, buffer=mm,\n",
      "\u001b[1;31mOSError\u001b[0m: [WinError 8] Not enough storage is available to process this command"
     ],
     "output_type": "error"
    }
   ],
   "source": [
    "layer1 = viewer.add_image(np.memmap('C:\\\\Users\\\\LabelFree\\\\Desktop\\\\nonramtemp\\\\Snap-Live-Stream.dat',\n",
    "                                    dtype=np.uint16, offset=0,\n",
    "                                    mode='r',\n",
    "                                    shape=(2048, 2048)))\n",
    "\n",
    "\n"
   ]
  },
  {
   "cell_type": "code",
   "execution_count": 4,
   "metadata": {},
   "outputs": [],
   "source": [
    "class ProcessRunnable(QRunnable):\n",
    "    def __init__(self, target, args):\n",
    "        QRunnable.__init__(self)\n",
    "        self.t = target\n",
    "        self.args = args\n",
    "\n",
    "    def run(self):\n",
    "        self.t(*self.args)\n",
    "\n",
    "    def start(self):\n",
    "        QThreadPool.globalInstance().start(self)\n"
   ]
  },
  {
   "cell_type": "code",
   "execution_count": 5,
   "metadata": {},
   "outputs": [],
   "source": [
    "def stream_data():\n",
    "    count = 0\n",
    "    while True:\n",
    "        time.sleep(0.001)\n",
    "        layer1.image = np.memmap(\n",
    "            'C:\\\\Users\\\\LabelFree\\\\Desktop\\\\nonramtemp\\\\Snap-Live-Stream.dat',\n",
    "            dtype=np.uint16, offset=0,\n",
    "            mode='r',\n",
    "            shape=(2048, 2048))\n",
    "        if count >= 10000:\n",
    "            break\n",
    "        count += 1\n"
   ]
  },
  {
   "cell_type": "code",
   "execution_count": 6,
   "metadata": {},
   "outputs": [],
   "source": [
    "r = ProcessRunnable(target=stream_data, args=())\n",
    "r.start()\n"
   ]
  },
  {
   "cell_type": "code",
   "execution_count": null,
   "metadata": {},
   "outputs": [],
   "source": [
    "# demonstrate fast processing\n",
    "viewer = ViewerApp()"
   ]
  },
  {
   "cell_type": "code",
   "execution_count": 11,
   "metadata": {},
   "outputs": [],
   "source": [
    "def cv2_sobel_edge_with_binary(image):\n",
    "\n",
    "    k=3\n",
    "    t=5000\n",
    "    blur = cv2.GaussianBlur(image, (k,k),0)\n",
    "\n",
    "    (t, binary) = cv2.threshold(blur,t, 65534, cv2.THRESH_BINARY_INV)\n",
    "\n",
    "    grad_x = cv2.Sobel(binary, cv2.CV_16U, 2, 0)\n",
    "    grad_y = cv2.Sobel(binary, cv2.CV_16U, 0, 2)\n",
    "\n",
    "    edge = cv2.bitwise_or(grad_x, grad_y)\n",
    "    return edge\n",
    "\n",
    "\n",
    "def stream_sobel():\n",
    "    count = 0\n",
    "    while True:\n",
    "        time.sleep(0.001)\n",
    "        layer1.image = cv2_sobel_edge_with_binary(\n",
    "            np.memmap('Q:\\Snap-Live-Stream.dat',\n",
    "                      dtype=np.uint16, offset=0,\n",
    "                      shape=(2048, 2048))\n",
    "        )\n",
    "        if count >= 10000:\n",
    "            break\n",
    "        count += 1\n"
   ]
  },
  {
   "cell_type": "code",
   "execution_count": 12,
   "metadata": {},
   "outputs": [],
   "source": [
    "r = ProcessRunnable(target=stream_sobel, args=())\n",
    "r.start()\n"
   ]
  },
  {
   "cell_type": "code",
   "execution_count": null,
   "metadata": {},
   "outputs": [],
   "source": [
    "# demonstrate that we don't need a RAM disk\n",
    "\n",
    "viewer = ViewerApp()"
   ]
  },
  {
   "cell_type": "code",
   "execution_count": null,
   "metadata": {},
   "outputs": [],
   "source": [
    "layer1 = viewer.add_image(\n",
    "    np.memmap('C:\\\\Users\\\\LabelFree\\\\Desktop\\\\nonramtemp\\\\Snap-Live-Stream.dat',\n",
    "              dtype=np.uint16, offset=0,\n",
    "              mode='r',\n",
    "              shape=(2048, 2048)))\n"
   ]
  },
  {
   "cell_type": "code",
   "execution_count": null,
   "metadata": {},
   "outputs": [],
   "source": [
    "def stream_data_nonram():\n",
    "    count = 0\n",
    "    while True:\n",
    "        time.sleep(0.001)\n",
    "        layer1.image = np.memmap(\n",
    "            'C:\\\\Users\\\\LabelFree\\\\Desktop\\\\nonramtemp\\\\Snap-Live-Stream.dat',\n",
    "            dtype=np.uint16, offset=0,\n",
    "            mode='r',\n",
    "            shape=(2048, 2048))\n",
    "        if count >= 10000:\n",
    "            break\n",
    "        count += 1\n"
   ]
  },
  {
   "cell_type": "code",
   "execution_count": null,
   "metadata": {},
   "outputs": [],
   "source": [
    "r = ProcessRunnable(target=stream_data, args=())\n",
    "r.start()"
   ]
  }
 ],
 "metadata": {
  "kernelspec": {
   "display_name": "Python 2",
   "language": "python",
   "name": "python2"
  },
  "language_info": {
   "codemirror_mode": {
    "name": "ipython",
    "version": 2
   },
   "file_extension": ".py",
   "mimetype": "text/x-python",
   "name": "python",
   "nbconvert_exporter": "python",
   "pygments_lexer": "ipython2",
   "version": "2.7.6"
  }
 },
 "nbformat": 4,
 "nbformat_minor": 0
}
