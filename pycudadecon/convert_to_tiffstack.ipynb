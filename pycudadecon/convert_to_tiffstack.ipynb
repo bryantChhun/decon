{
 "cells": [
  {
   "cell_type": "code",
   "execution_count": null,
   "metadata": {
    "collapsed": true
   },
   "outputs": [],
   "source": [
    "\"\"\"\n",
    "\n",
    "\"\"\"\n"
   ]
  },
  {
   "cell_type": "code",
   "execution_count": null,
   "metadata": {
    "collapsed": true
   },
   "outputs": [],
   "source": [
    "\n",
    "import os\n",
    "import numpy as np\n",
    "import tifffile\n"
   ]
  },
  {
   "cell_type": "code",
   "execution_count": 88,
   "metadata": {},
   "outputs": [],
   "source": [
    "folder = \"Z:\\\\ComputationalMicroscopy\\\\SpinningDisk\\\\RawData\\\\virtualstaining\\\\\" \\\n",
    "         \"2019_04_02_U2OS_plin2_SirActin_MTs\"\n",
    "sample = \"\\\\2019-4-2-U2OS_plin2_DS2_1\"\n",
    "\n",
    "folder = \"Z:\\\\ComputationalMicroscopy\\\\SpinningDisk\\\\RawData\\\\virtualstaining\\\\\" \\\n",
    "         \"2019_04_08_U2OS_plin2\"\n",
    "sample = \"\\\\2019_04_08_U2OS_plin2_Lipid_MT_Actin_3\"\n",
    "\n",
    "folder = \"Z:\\\\ComputationalMicroscopy\\\\SpinningDisk\\\\RawData\\\\virtualstaining\\\\\" \\\n",
    "         \"2019_04_08_U2OS_plin2\"\n",
    "sample = \"\\\\2019_04_08_U2OS_plin2_Lipid_MT_Actin_Slide2_2\"\n",
    "\n",
    "\n",
    "outfolder = \"Z:\\\\ComputationalMicroscopy\\\\SpinningDisk\\\\Processed\\\\Decon\""
   ]
  },
  {
   "cell_type": "code",
   "execution_count": 89,
   "metadata": {
    "collapsed": true
   },
   "outputs": [],
   "source": [
    "inputChann = ['Zyla_488_Widefield', 'Zyla_561_Widefield', 'Zyla_637_Widefield']\n",
    "\n",
    "# inputChann = ['Zyla_637_Widefield']"
   ]
  },
  {
   "cell_type": "code",
   "execution_count": 90,
   "metadata": {
    "collapsed": true
   },
   "outputs": [
    {
     "data": {
      "text/plain": [
       "['4-Pos_000_000',\n '4-Pos_000_001',\n '4-Pos_000_002',\n '4-Pos_000_003',\n '4-Pos_000_004',\n '4-Pos_000_005',\n '4-Pos_000_006',\n '4-Pos_000_007',\n '4-Pos_000_008',\n '4-Pos_000_009',\n '4-Pos_000_010',\n '4-Pos_000_011',\n '4-Pos_000_012',\n '4-Pos_000_013',\n '4-Pos_000_014',\n '4-Pos_000_015',\n '4-Pos_000_016',\n '4-Pos_000_017',\n '4-Pos_000_018',\n '4-Pos_000_019',\n '4-Pos_001_000',\n '4-Pos_001_001',\n '4-Pos_001_002',\n '4-Pos_001_003',\n '4-Pos_001_004',\n '4-Pos_001_005',\n '4-Pos_001_006',\n '4-Pos_001_007',\n '4-Pos_001_008',\n '4-Pos_001_009',\n '4-Pos_001_010',\n '4-Pos_001_011',\n '4-Pos_001_012',\n '4-Pos_001_013',\n '4-Pos_001_014',\n '4-Pos_001_015',\n '4-Pos_001_016',\n '4-Pos_001_017',\n '4-Pos_001_018',\n '4-Pos_001_019',\n '4-Pos_002_000',\n '4-Pos_002_001',\n '4-Pos_002_002',\n '4-Pos_002_003',\n '4-Pos_002_004',\n '4-Pos_002_005',\n '4-Pos_002_006',\n '4-Pos_002_007',\n '4-Pos_002_008',\n '4-Pos_002_009',\n '4-Pos_002_010',\n '4-Pos_002_011',\n '4-Pos_002_012',\n '4-Pos_002_013',\n '4-Pos_002_014',\n '4-Pos_002_015',\n '4-Pos_002_016',\n '4-Pos_002_017',\n '4-Pos_002_018',\n '4-Pos_002_019',\n '4-Pos_003_000',\n '4-Pos_003_001',\n '4-Pos_003_002',\n '4-Pos_003_003',\n '4-Pos_003_004',\n '4-Pos_003_005',\n '4-Pos_003_006',\n '4-Pos_003_007',\n '4-Pos_003_008',\n '4-Pos_003_009',\n '4-Pos_003_010',\n '4-Pos_003_011',\n '4-Pos_003_012',\n '4-Pos_003_013',\n '4-Pos_003_014',\n '4-Pos_003_015',\n '4-Pos_003_016',\n '4-Pos_003_017',\n '4-Pos_003_018',\n '4-Pos_003_019',\n '4-Pos_004_000',\n '4-Pos_004_001',\n '4-Pos_004_002',\n '4-Pos_004_003',\n '4-Pos_004_004',\n '4-Pos_004_005',\n '4-Pos_004_006',\n '4-Pos_004_007',\n '4-Pos_004_008',\n '4-Pos_004_009',\n '4-Pos_004_010',\n '4-Pos_004_011',\n '4-Pos_004_012',\n '4-Pos_004_013',\n '4-Pos_004_014',\n '4-Pos_004_015',\n '4-Pos_004_016',\n '4-Pos_004_017',\n '4-Pos_004_018',\n '4-Pos_004_019',\n '4-Pos_005_000',\n '4-Pos_005_001',\n '4-Pos_005_002',\n '4-Pos_005_003',\n '4-Pos_005_004',\n '4-Pos_005_005',\n '4-Pos_005_006',\n '4-Pos_005_007',\n '4-Pos_005_008',\n '4-Pos_005_009',\n '4-Pos_005_010',\n '4-Pos_005_011',\n '4-Pos_005_012',\n '4-Pos_005_013',\n '4-Pos_005_014',\n '4-Pos_005_015',\n '4-Pos_005_016',\n '4-Pos_005_017',\n '4-Pos_005_018',\n '4-Pos_005_019',\n '4-Pos_006_000',\n '4-Pos_006_001',\n '4-Pos_006_002',\n '4-Pos_006_003',\n '4-Pos_006_004',\n '4-Pos_006_005',\n '4-Pos_006_006',\n '4-Pos_006_007',\n '4-Pos_006_008',\n '4-Pos_006_009',\n '4-Pos_006_010',\n '4-Pos_006_011',\n '4-Pos_006_012',\n '4-Pos_006_013',\n '4-Pos_006_014',\n '4-Pos_006_015',\n '4-Pos_006_016',\n '4-Pos_006_017',\n '4-Pos_006_018',\n '4-Pos_006_019',\n '4-Pos_007_000',\n '4-Pos_007_001',\n '4-Pos_007_002',\n '4-Pos_007_003',\n '4-Pos_007_004',\n '4-Pos_007_005',\n '4-Pos_007_006',\n '4-Pos_007_007',\n '4-Pos_007_008',\n '4-Pos_007_009',\n '4-Pos_007_010',\n '4-Pos_007_011',\n '4-Pos_007_012',\n '4-Pos_007_013',\n '4-Pos_007_014',\n '4-Pos_007_015',\n '4-Pos_007_016',\n '4-Pos_007_017',\n '4-Pos_007_018',\n '4-Pos_007_019',\n '4-Pos_008_000',\n '4-Pos_008_001',\n '4-Pos_008_002',\n '4-Pos_008_003',\n '4-Pos_008_004',\n '4-Pos_008_005',\n '4-Pos_008_006',\n '4-Pos_008_007',\n '4-Pos_008_008',\n '4-Pos_008_009',\n '4-Pos_008_010',\n '4-Pos_008_011',\n '4-Pos_008_012',\n '4-Pos_008_013',\n '4-Pos_008_014',\n '4-Pos_008_015',\n '4-Pos_008_016',\n '4-Pos_008_017',\n '4-Pos_008_018',\n '4-Pos_008_019',\n '4-Pos_009_000',\n '4-Pos_009_001',\n '4-Pos_009_002',\n '4-Pos_009_003',\n '4-Pos_009_004',\n '4-Pos_009_005',\n '4-Pos_009_006',\n '4-Pos_009_007',\n '4-Pos_009_008',\n '4-Pos_009_009',\n '4-Pos_009_010',\n '4-Pos_009_011',\n '4-Pos_009_012',\n '4-Pos_009_013',\n '4-Pos_009_014',\n '4-Pos_009_015',\n '4-Pos_009_016',\n '4-Pos_009_017',\n '4-Pos_009_018',\n '4-Pos_009_019',\n '4-Pos_010_000',\n '4-Pos_010_001',\n '4-Pos_010_002',\n '4-Pos_010_003',\n '4-Pos_010_004',\n '4-Pos_010_005',\n '4-Pos_010_006',\n '4-Pos_010_007',\n '4-Pos_010_008',\n '4-Pos_010_009',\n '4-Pos_010_010',\n '4-Pos_010_011',\n '4-Pos_010_012',\n '4-Pos_010_013',\n '4-Pos_010_014',\n '4-Pos_010_015',\n '4-Pos_010_016',\n '4-Pos_010_017',\n '4-Pos_010_018',\n '4-Pos_010_019',\n '4-Pos_011_000',\n '4-Pos_011_001',\n '4-Pos_011_002',\n '4-Pos_011_003',\n '4-Pos_011_004',\n '4-Pos_011_005',\n '4-Pos_011_006',\n '4-Pos_011_007',\n '4-Pos_011_008',\n '4-Pos_011_009',\n '4-Pos_011_010',\n '4-Pos_011_011',\n '4-Pos_011_012',\n '4-Pos_011_013',\n '4-Pos_011_014',\n '4-Pos_011_015',\n '4-Pos_011_016',\n '4-Pos_011_017',\n '4-Pos_011_018',\n '4-Pos_011_019',\n '4-Pos_012_000',\n '4-Pos_012_001',\n '4-Pos_012_002',\n '4-Pos_012_003',\n '4-Pos_012_004',\n '4-Pos_012_005',\n '4-Pos_012_006',\n '4-Pos_012_007',\n '4-Pos_012_008',\n '4-Pos_012_009',\n '4-Pos_012_010',\n '4-Pos_012_011',\n '4-Pos_012_012',\n '4-Pos_012_013',\n '4-Pos_012_014',\n '4-Pos_012_015',\n '4-Pos_012_016',\n '4-Pos_012_017',\n '4-Pos_012_018',\n '4-Pos_012_019',\n '4-Pos_013_000',\n '4-Pos_013_001',\n '4-Pos_013_002',\n '4-Pos_013_003',\n '4-Pos_013_004',\n '4-Pos_013_005',\n '4-Pos_013_006',\n '4-Pos_013_007',\n '4-Pos_013_008',\n '4-Pos_013_009',\n '4-Pos_013_010',\n '4-Pos_013_011',\n '4-Pos_013_012',\n '4-Pos_013_013',\n '4-Pos_013_014',\n '4-Pos_013_015',\n '4-Pos_013_016',\n '4-Pos_013_017',\n '4-Pos_013_018',\n '4-Pos_013_019',\n '4-Pos_014_000',\n '4-Pos_014_001',\n '4-Pos_014_002',\n '4-Pos_014_003',\n '4-Pos_014_004',\n '4-Pos_014_005',\n '4-Pos_014_006',\n '4-Pos_014_007',\n '4-Pos_014_008',\n '4-Pos_014_009',\n '4-Pos_014_010',\n '4-Pos_014_011',\n '4-Pos_014_012',\n '4-Pos_014_013',\n '4-Pos_014_014',\n '4-Pos_014_015',\n '4-Pos_014_016',\n '4-Pos_014_017',\n '4-Pos_014_018',\n '4-Pos_014_019',\n '4-Pos_015_000',\n '4-Pos_015_001',\n '4-Pos_015_002',\n '4-Pos_015_003',\n '4-Pos_015_004',\n '4-Pos_015_005',\n '4-Pos_015_006',\n '4-Pos_015_007',\n '4-Pos_015_008',\n '4-Pos_015_009',\n '4-Pos_015_010',\n '4-Pos_015_011',\n '4-Pos_015_012',\n '4-Pos_015_013',\n '4-Pos_015_014',\n '4-Pos_015_015',\n '4-Pos_015_016',\n '4-Pos_015_017',\n '4-Pos_015_018',\n '4-Pos_015_019',\n '4-Pos_016_000',\n '4-Pos_016_001',\n '4-Pos_016_002',\n '4-Pos_016_003',\n '4-Pos_016_004',\n '4-Pos_016_005',\n '4-Pos_016_006',\n '4-Pos_016_007',\n '4-Pos_016_008',\n '4-Pos_016_009',\n '4-Pos_016_010',\n '4-Pos_016_011',\n '4-Pos_016_012',\n '4-Pos_016_013',\n '4-Pos_016_014',\n '4-Pos_016_015',\n '4-Pos_016_016',\n '4-Pos_016_017',\n '4-Pos_016_018',\n '4-Pos_016_019',\n '4-Pos_017_000',\n '4-Pos_017_001',\n '4-Pos_017_002',\n '4-Pos_017_003',\n '4-Pos_017_004',\n '4-Pos_017_005',\n '4-Pos_017_006',\n '4-Pos_017_007',\n '4-Pos_017_008',\n '4-Pos_017_009',\n '4-Pos_017_010',\n '4-Pos_017_011',\n '4-Pos_017_012',\n '4-Pos_017_013',\n '4-Pos_017_014',\n '4-Pos_017_015',\n '4-Pos_017_016',\n '4-Pos_017_017',\n '4-Pos_017_018',\n '4-Pos_017_019',\n '4-Pos_018_000',\n '4-Pos_018_001',\n '4-Pos_018_002',\n '4-Pos_018_003',\n '4-Pos_018_004',\n '4-Pos_018_005',\n '4-Pos_018_006',\n '4-Pos_018_007',\n '4-Pos_018_008',\n '4-Pos_018_009',\n '4-Pos_018_010',\n '4-Pos_018_011',\n '4-Pos_018_012',\n '4-Pos_018_013',\n '4-Pos_018_014',\n '4-Pos_018_015',\n '4-Pos_018_016',\n '4-Pos_018_017',\n '4-Pos_018_018',\n '4-Pos_018_019',\n '4-Pos_019_000',\n '4-Pos_019_001',\n '4-Pos_019_002',\n '4-Pos_019_003',\n '4-Pos_019_004',\n '4-Pos_019_005',\n '4-Pos_019_006',\n '4-Pos_019_007',\n '4-Pos_019_008',\n '4-Pos_019_009',\n '4-Pos_019_010',\n '4-Pos_019_011',\n '4-Pos_019_012',\n '4-Pos_019_013',\n '4-Pos_019_014',\n '4-Pos_019_015',\n '4-Pos_019_016',\n '4-Pos_019_017',\n '4-Pos_019_018',\n '4-Pos_019_019']"
      ]
     },
     "execution_count": 90,
     "metadata": {},
     "output_type": "execute_result"
    }
   ],
   "source": [
    "positions = [name for name in os.listdir(folder+\"\\\\\"+sample) \n",
    "              if os.path.isdir(os.path.join(folder+\"\\\\\"+sample, name))]\n",
    "positions\n"
   ]
  },
  {
   "cell_type": "code",
   "execution_count": 91,
   "metadata": {},
   "outputs": [],
   "source": [
    "# iterates through positions in a sample folder\n",
    "for pos in positions:\n",
    "    fullpath = folder+sample+\"\\\\\"+pos\n",
    "    img_path_list = os.listdir(fullpath)\n",
    "    for chan in inputChann:\n",
    "        tiffstack = []\n",
    "        # pull out images that string match chan\n",
    "        imglist_by_chan = [img for img in img_path_list if chan in img]\n",
    "        imglist_by_chan.sort(reverse=False)\n",
    "        # write sorted images to array\n",
    "        for Image in imglist_by_chan:\n",
    "            ar = tifffile.imread(fullpath+\"\\\\\"+Image)\n",
    "            # ar = cv2.imread(fullpath+\"\\\\\"+Image, -1)\n",
    "            tiffstack.append(ar)\n",
    "        tiffstack = np.asarray(tiffstack)\n",
    "        if not os.path.exists(outfolder+sample+\"\\\\\"+pos):\n",
    "            os.makedirs(outfolder+sample+\"\\\\\"+pos)\n",
    "        outfilename = outfolder+sample+\"\\\\\"+pos+\"\\\\\"+chan+\"_tiffstack.tif\"\n",
    "        # cv2.imwrite(outfilename, np.asarray(tiffstack))\n",
    "        tifffile.imsave(outfilename, tiffstack)"
   ]
  },
  {
   "cell_type": "code",
   "execution_count": null,
   "metadata": {},
   "outputs": [],
   "source": [
    "\n"
   ]
  }
 ],
 "metadata": {
  "kernelspec": {
   "display_name": "Python 2",
   "language": "python",
   "name": "python2"
  },
  "language_info": {
   "codemirror_mode": {
    "name": "ipython",
    "version": 2
   },
   "file_extension": ".py",
   "mimetype": "text/x-python",
   "name": "python",
   "nbconvert_exporter": "python",
   "pygments_lexer": "ipython2",
   "version": "2.7.6"
  }
 },
 "nbformat": 4,
 "nbformat_minor": 0
}
