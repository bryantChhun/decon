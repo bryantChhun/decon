{
 "cells": [
  {
   "cell_type": "code",
   "execution_count": null,
   "metadata": {
    "collapsed": true
   },
   "outputs": [],
   "source": [
    "\"\"\"\n",
    "**** READ THIS FIRST ***\n",
    "\n",
    "Notebook to extract Single molecules from z-stacks of beads\n",
    "\n",
    "Requirements:\n",
    "- individual tiffs from a z-series acquisition using MicroManager\n",
    "\n",
    "Method:\n",
    "1) creates 3d PSF files (.tif, multipage) from individual tiffs.\n",
    "2) tiff files must contain \"inputChann\" strings in the name and will be sorted based on index,\n",
    "    which is assumed to represent z-slice.\n",
    "3) IDSM (ID single molecule) takes two parameters: Data, PeakIntensity, Radius\n",
    "    Data: np.array of your bead stack generated in 2\n",
    "    PeakIntensity: multiples of the image STD used as a threshold.\n",
    "        beads whose (peak intensity - image mean intensity) > peak*std will be considered and extracted\n",
    "    Radius: radius in pixels around the single molecule to extract upon identification.\n",
    "    Boundary: outer pixels to crop out of consideration for single molecules\n",
    "        useful if there are severe border aberrations.\n",
    "4) Average all molecules for each z-plane\n",
    "5) Visualize to confirm\n",
    "6) Save\n",
    "\n",
    "Future Work:\n",
    "- This code treats each z-plane independently.\n",
    "    It assumes all molecules in each z-plane are in the same physical plane!\n",
    "- No support for random bead distribution across a volume!\n",
    "\n",
    "\"\"\"\n"
   ]
  },
  {
   "cell_type": "code",
   "execution_count": null,
   "metadata": {
    "collapsed": true
   },
   "outputs": [],
   "source": [
    "\n",
    "import os\n",
    "import tifffile\n",
    "import numpy as np\n",
    "import matplotlib.pyplot as plt\n",
    "from copy import deepcopy\n"
   ]
  },
  {
   "cell_type": "code",
   "execution_count": 6,
   "metadata": {
    "collapsed": true
   },
   "outputs": [],
   "source": [
    "# the only parameters you need to adjust\n",
    "\n",
    "# file paths\n",
    "directory = \"/Users/bryant.chhun/Desktop/Data/2019_04_08_TetraSpec_PSF_6\"\n",
    "sample = \"/Pos0\"\n",
    "outfolder = \"/Users/bryant.chhun/Desktop/Data/2019_04_08_TetraSpec_PSF_6/\"\n",
    "\n",
    "# Single Molecule Identification parameters\n",
    "PeakIntensity = 9\n",
    "radius = 32\n",
    "boundary = 512"
   ]
  },
  {
   "cell_type": "code",
   "execution_count": 7,
   "metadata": {
    "collapsed": true
   },
   "outputs": [],
   "source": [
    "files = [name for name in os.listdir(directory+sample) \n",
    "              if os.path.isfile(os.path.join(directory+sample, name))]\n"
   ]
  },
  {
   "cell_type": "code",
   "execution_count": 4,
   "metadata": {
    "collapsed": true
   },
   "outputs": [],
   "source": [
    "inputChann = ['Zyla_405_Widefield', 'Zyla_488_Widefield', 'Zyla_561_Widefield', 'Zyla_637_Widefield']"
   ]
  },
  {
   "cell_type": "code",
   "execution_count": 6,
   "metadata": {
    "collapsed": true
   },
   "outputs": [],
   "source": [
    "# generate 3d tiff files (PSF files)\n",
    "\n",
    "for chan in inputChann:\n",
    "    tiffstack = []\n",
    "    \n",
    "    # pull out images that string match chan\n",
    "    imglist_by_chan = [directory+sample+\"/\"+img for img in files if chan in img]\n",
    "    imglist_by_chan.sort(reverse=False)\n",
    "    \n",
    "    # write sorted images to array\n",
    "    for Image in imglist_by_chan:\n",
    "        ar = tifffile.imread(Image)\n",
    "        tiffstack.append(ar)\n",
    "    tiffstack = np.asarray(tiffstack)\n",
    "    if not os.path.exists(outfolder):\n",
    "        os.makedirs(outfolder)\n",
    "    outfilename = outfolder+\"/\"+chan+\"_tiffstack.tif\"\n",
    "    tifffile.imsave(outfilename, tiffstack)\n"
   ]
  },
  {
   "cell_type": "code",
   "execution_count": 89,
   "metadata": {},
   "outputs": [],
   "source": [
    "# load a 3d tiff file (bead stack)\n",
    "# comment or uncomment to select your wavelength\n",
    "\n",
    "# stack = tifffile.imread('/Users/bryant.chhun/Desktop/Data/2019_04_08_TetraSpec_PSF_6/Zyla_405_Widefield_tiffstack.tif')\n",
    "# stack = tifffile.imread('/Users/bryant.chhun/Desktop/Data/2019_04_08_TetraSpec_PSF_6/Zyla_488_Widefield_tiffstack.tif')\n",
    "# stack = tifffile.imread('/Users/bryant.chhun/Desktop/Data/2019_04_08_TetraSpec_PSF_6/Zyla_561_Widefield_tiffstack.tif')\n",
    "stack = tifffile.imread('/Users/bryant.chhun/Desktop/Data/2019_04_08_TetraSpec_PSF_6/Zyla_637_Widefield_tiffstack.tif')\n",
    "\n"
   ]
  },
  {
   "cell_type": "code",
   "execution_count": 90,
   "metadata": {},
   "outputs": [],
   "source": [
    "def trimBorders(playdata, radius):\n",
    "    copydata = deepcopy(playdata)\n",
    "    mindat = copydata.min()\n",
    "    copydata[0:radius].fill(mindat)\n",
    "    copydata[-radius:-1].fill(mindat)\n",
    "    copydata[:, 0:radius].fill(mindat)\n",
    "    copydata[:, -radius:-1].fill(mindat)\n",
    "    return copydata\n",
    "    \n",
    "def triscutData(playdata, size):\n",
    "    copydata = deepcopy(playdata)\n",
    "    return copydata[size:-size, size:-size]\n",
    "\n",
    "def IDSM(inputdata, PeakIntensity, radius, boundary):\n",
    "    std_input = np.std(inputdata)\n",
    "    max_data = inputdata.max()\n",
    "    mean_data = inputdata.mean()\n",
    "    \n",
    "    # create copy of input data.\n",
    "    playdata = deepcopy(inputdata)\n",
    "    playdata = triscutData(playdata, boundary)\n",
    "    playdata = trimBorders(playdata, radius)\n",
    "    extractedList = []\n",
    "    \n",
    "    while (max_data - mean_data > std_input * PeakIntensity):\n",
    "        max_coord = np.unravel_index(playdata.argmax(), playdata.shape)\n",
    "        \n",
    "        # extract a radius around this location\n",
    "        # check that the molecule is not at the edge\n",
    "        if(playdata.shape[0] - radius > max_coord[0] > radius\n",
    "            and playdata.shape[1] - radius > max_coord[1] > radius):\n",
    "            extraction = deepcopy(playdata[ max_coord[0]-radius:max_coord[0]+radius+1 , max_coord[1]-radius:max_coord[1]+radius+1])\n",
    "        else:\n",
    "            print(\"edge molecule detected, replacing molecule but not extracting\")\n",
    "            playdata[ max_coord[0]-radius:max_coord[0]+radius+1 , max_coord[1]-radius:max_coord[1]+radius+1].fill(extractedList[-1].min())\n",
    "            \n",
    "        print(\"extracting molecule # = %s\" % (len(extractedList)+1))\n",
    "        # print(\"max data = %s, mean_data = %s\\nstd_input = %s, PI = %s\\nmax-mean = %s, std*PI = %s\\ncoord = (%s, %s)\" % (max_data, mean_data, std_input, PeakIntensity, max_data - mean_data, std_input * PeakIntensity, max_coord[0], max_coord[1]))\n",
    "        # print(\"convergence = %s\" % ((max_data - mean_data) - (std_input * PeakIntensity)))\n",
    "        # print(\"extraction shape = %s, extraction min = %s\" % (extraction.shape, extraction.min()))\n",
    "        # print(\"\\n\")\n",
    "        \n",
    "        extractedList.append(extraction)\n",
    "        \n",
    "        playdata[ max_coord[0]-radius:max_coord[0]+radius+1 , max_coord[1]-radius:max_coord[1]+radius+1].fill(extraction.min())\n",
    "            \n",
    "        #update image data to reflect extracted set\n",
    "        std_input = np.std(playdata)\n",
    "        max_data = playdata.max()\n",
    "        mean_data = playdata.mean()\n",
    "            \n",
    "    return extractedList\n"
   ]
  },
  {
   "cell_type": "code",
   "execution_count": 91,
   "metadata": {
    "collapsed": true
   },
   "outputs": [
    {
     "name": "stdout",
     "output_type": "stream",
     "text": [
      "=====================================\n========== z=0 stack ==============\nextracting molecule # = 1\nextracting molecule # = 2\nextracting molecule # = 3\nextracting molecule # = 4\nextracting molecule # = 5\nextracting molecule # = 6\nextracting molecule # = 7\nextracting molecule # = 8\nextracting molecule # = 9\nextracting molecule # = 10\nextracting molecule # = 11\nextracting molecule # = 12\nextracting molecule # = 13\nextracting molecule # = 14\nextracting molecule # = 15\nextracting molecule # = 16\nextracting molecule # = 17\nextracting molecule # = 18\nextracting molecule # = 19\nextracting molecule # = 20\n"
     ]
    },
    {
     "name": "stdout",
     "output_type": "stream",
     "text": [
      "extracting molecule # = 21\nextracting molecule # = 22\nextracting molecule # = 23\nextracting molecule # = 24\nextracting molecule # = 25\nextracting molecule # = 26\nextracting molecule # = 27\nextracting molecule # = 28\nextracting molecule # = 29\nextracting molecule # = 30\nextracting molecule # = 31\nextracting molecule # = 32\nextracting molecule # = 33\nextracting molecule # = 34\nextracting molecule # = 35\nextracting molecule # = 36\nextracting molecule # = 37\nextracting molecule # = 38\nextracting molecule # = 39\nextracting molecule # = 40\nextracting molecule # = 41\nextracting molecule # = 42\n"
     ]
    },
    {
     "name": "stdout",
     "output_type": "stream",
     "text": [
      "extracting molecule # = 43\nextracting molecule # = 44\nextracting molecule # = 45\nextracting molecule # = 46\nextracting molecule # = 47\nextracting molecule # = 48\nextracting molecule # = 49\nextracting molecule # = 50\nextracting molecule # = 51\nextracting molecule # = 52\nextracting molecule # = 53\nextracting molecule # = 54\nextracting molecule # = 55\nextracting molecule # = 56\nextracting molecule # = 57\nedge molecule detected, replacing molecule but not extracting\nextracting molecule # = 58\nextracting molecule # = 59\nextracting molecule # = 60\nextracting molecule # = 61\nextracting molecule # = 62\nextracting molecule # = 63\n"
     ]
    },
    {
     "name": "stdout",
     "output_type": "stream",
     "text": [
      "extracting molecule # = 64\nextracting molecule # = 65\nextracting molecule # = 66\nextracting molecule # = 67\nextracting molecule # = 68\nextracting molecule # = 69\nextracting molecule # = 70\nextracting molecule # = 71\nextracting molecule # = 72\nextracting molecule # = 73\nextracting molecule # = 74\nextracting molecule # = 75\nextracting molecule # = 76\nextracting molecule # = 77\nextracting molecule # = 78\nextracting molecule # = 79\nextracting molecule # = 80\nextracting molecule # = 81\nextracting molecule # = 82\nextracting molecule # = 83\nextracting molecule # = 84\nextracting molecule # = 85\nextracting molecule # = 86\nextracting molecule # = 87\nextracting molecule # = 88\n"
     ]
    },
    {
     "name": "stdout",
     "output_type": "stream",
     "text": [
      "extracting molecule # = 89\nedge molecule detected, replacing molecule but not extracting\nextracting molecule # = 90\nextracting molecule # = 91\nextracting molecule # = 92\nextracting molecule # = 93\nextracting molecule # = 94\nextracting molecule # = 95\nextracting molecule # = 96\nextracting molecule # = 97\nextracting molecule # = 98\nextracting molecule # = 99\nextracting molecule # = 100\nextracting molecule # = 101\nextracting molecule # = 102\nedge molecule detected, replacing molecule but not extracting\nextracting molecule # = 103\nextracting molecule # = 104\nextracting molecule # = 105\nedge molecule detected, replacing molecule but not extracting\nextracting molecule # = 106\nextracting molecule # = 107\nextracting molecule # = 108\nextracting molecule # = 109\nextracting molecule # = 110\nextracting molecule # = 111\nextracting molecule # = 112\nextracting molecule # = 113\n"
     ]
    },
    {
     "name": "stdout",
     "output_type": "stream",
     "text": [
      "extracting molecule # = 114\nextracting molecule # = 115\nextracting molecule # = 116\nextracting molecule # = 117\nextracting molecule # = 118\nextracting molecule # = 119\nextracting molecule # = 120\nextracting molecule # = 121\nextracting molecule # = 122\nextracting molecule # = 123\nextracting molecule # = 124\nextracting molecule # = 125\nextracting molecule # = 126\nextracting molecule # = 127\nextracting molecule # = 128\nextracting molecule # = 129\nextracting molecule # = 130\nextracting molecule # = 131\nextracting molecule # = 132\nextracting molecule # = 133\n=====================================\n========== z=1 stack ==============\nextracting molecule # = 1\n"
     ]
    },
    {
     "name": "stdout",
     "output_type": "stream",
     "text": [
      "extracting molecule # = 2\nextracting molecule # = 3\nextracting molecule # = 4\n=====================================\n========== z=2 stack ==============\nextracting molecule # = 1\nextracting molecule # = 2\nextracting molecule # = 3\nextracting molecule # = 4\n=====================================\n========== z=3 stack ==============\nextracting molecule # = 1\nextracting molecule # = 2\nextracting molecule # = 3\nextracting molecule # = 4\n=====================================\n========== z=4 stack ==============\nextracting molecule # = 1\nextracting molecule # = 2\nextracting molecule # = 3\n"
     ]
    },
    {
     "name": "stdout",
     "output_type": "stream",
     "text": [
      "extracting molecule # = 4\nextracting molecule # = 5\nextracting molecule # = 6\nextracting molecule # = 7\n=====================================\n========== z=5 stack ==============\nextracting molecule # = 1\nextracting molecule # = 2\nextracting molecule # = 3\nextracting molecule # = 4\nextracting molecule # = 5\nextracting molecule # = 6\nextracting molecule # = 7\nextracting molecule # = 8\nextracting molecule # = 9\nextracting molecule # = 10\nextracting molecule # = 11\nextracting molecule # = 12\nextracting molecule # = 13\nextracting molecule # = 14\nextracting molecule # = 15\nextracting molecule # = 16\nextracting molecule # = 17\n=====================================\n========== z=6 stack ==============\n"
     ]
    },
    {
     "name": "stdout",
     "output_type": "stream",
     "text": [
      "extracting molecule # = 1\nextracting molecule # = 2\nextracting molecule # = 3\nextracting molecule # = 4\nextracting molecule # = 5\nextracting molecule # = 6\nextracting molecule # = 7\nextracting molecule # = 8\nextracting molecule # = 9\nextracting molecule # = 10\nextracting molecule # = 11\nextracting molecule # = 12\nextracting molecule # = 13\nextracting molecule # = 14\nextracting molecule # = 15\nextracting molecule # = 16\nextracting molecule # = 17\nextracting molecule # = 18\nextracting molecule # = 19\nextracting molecule # = 20\nextracting molecule # = 21\nextracting molecule # = 22\nextracting molecule # = 23\nedge molecule detected, replacing molecule but not extracting\nextracting molecule # = 24\nextracting molecule # = 25\nextracting molecule # = 26\nextracting molecule # = 27\nextracting molecule # = 28\nextracting molecule # = 29\n"
     ]
    },
    {
     "name": "stdout",
     "output_type": "stream",
     "text": [
      "extracting molecule # = 30\nextracting molecule # = 31\nextracting molecule # = 32\nextracting molecule # = 33\nextracting molecule # = 34\nextracting molecule # = 35\nextracting molecule # = 36\nextracting molecule # = 37\nextracting molecule # = 38\nextracting molecule # = 39\nedge molecule detected, replacing molecule but not extracting\nextracting molecule # = 40\nextracting molecule # = 41\nextracting molecule # = 42\nextracting molecule # = 43\nextracting molecule # = 44\nextracting molecule # = 45\nextracting molecule # = 46\nextracting molecule # = 47\nextracting molecule # = 48\nextracting molecule # = 49\n=====================================\n========== z=7 stack ==============\nextracting molecule # = 1\nextracting molecule # = 2\nextracting molecule # = 3\nextracting molecule # = 4\nextracting molecule # = 5\n"
     ]
    },
    {
     "name": "stdout",
     "output_type": "stream",
     "text": [
      "extracting molecule # = 6\nextracting molecule # = 7\nextracting molecule # = 8\nextracting molecule # = 9\nextracting molecule # = 10\nextracting molecule # = 11\nextracting molecule # = 12\nextracting molecule # = 13\nextracting molecule # = 14\nextracting molecule # = 15\nextracting molecule # = 16\nextracting molecule # = 17\nextracting molecule # = 18\nextracting molecule # = 19\nextracting molecule # = 20\nextracting molecule # = 21\nextracting molecule # = 22\nextracting molecule # = 23\nextracting molecule # = 24\nextracting molecule # = 25\nextracting molecule # = 26\nextracting molecule # = 27\nextracting molecule # = 28\nextracting molecule # = 29\nextracting molecule # = 30\nextracting molecule # = 31\nextracting molecule # = 32\nextracting molecule # = 33\nextracting molecule # = 34\nextracting molecule # = 35\n"
     ]
    },
    {
     "name": "stdout",
     "output_type": "stream",
     "text": [
      "extracting molecule # = 36\nextracting molecule # = 37\nextracting molecule # = 38\nextracting molecule # = 39\nextracting molecule # = 40\nextracting molecule # = 41\nextracting molecule # = 42\nextracting molecule # = 43\nextracting molecule # = 44\nextracting molecule # = 45\nextracting molecule # = 46\nextracting molecule # = 47\nextracting molecule # = 48\nextracting molecule # = 49\nextracting molecule # = 50\nedge molecule detected, replacing molecule but not extracting\nextracting molecule # = 51\nedge molecule detected, replacing molecule but not extracting\nextracting molecule # = 52\nextracting molecule # = 53\nextracting molecule # = 54\nextracting molecule # = 55\nextracting molecule # = 56\nextracting molecule # = 57\nextracting molecule # = 58\nextracting molecule # = 59\nextracting molecule # = 60\nextracting molecule # = 61\nextracting molecule # = 62\nextracting molecule # = 63\nextracting molecule # = 64\nextracting molecule # = 65\n"
     ]
    },
    {
     "name": "stdout",
     "output_type": "stream",
     "text": [
      "extracting molecule # = 66\nedge molecule detected, replacing molecule but not extracting\nextracting molecule # = 67\nextracting molecule # = 68\nextracting molecule # = 69\nextracting molecule # = 70\nextracting molecule # = 71\nextracting molecule # = 72\nextracting molecule # = 73\nextracting molecule # = 74\nextracting molecule # = 75\nextracting molecule # = 76\nextracting molecule # = 77\nextracting molecule # = 78\nextracting molecule # = 79\nextracting molecule # = 80\nextracting molecule # = 81\nextracting molecule # = 82\nextracting molecule # = 83\nextracting molecule # = 84\nextracting molecule # = 85\nextracting molecule # = 86\nextracting molecule # = 87\nextracting molecule # = 88\nextracting molecule # = 89\nextracting molecule # = 90\nextracting molecule # = 91\nextracting molecule # = 92\nextracting molecule # = 93\nextracting molecule # = 94\n"
     ]
    },
    {
     "name": "stdout",
     "output_type": "stream",
     "text": [
      "extracting molecule # = 95\nextracting molecule # = 96\nextracting molecule # = 97\nextracting molecule # = 98\nextracting molecule # = 99\nextracting molecule # = 100\nextracting molecule # = 101\nextracting molecule # = 102\nextracting molecule # = 103\nextracting molecule # = 104\nextracting molecule # = 105\nextracting molecule # = 106\nextracting molecule # = 107\nextracting molecule # = 108\nextracting molecule # = 109\nextracting molecule # = 110\nextracting molecule # = 111\nextracting molecule # = 112\nextracting molecule # = 113\nedge molecule detected, replacing molecule but not extracting\nextracting molecule # = 114\nextracting molecule # = 115\nextracting molecule # = 116\nextracting molecule # = 117\nextracting molecule # = 118\n=====================================\n========== z=8 stack ==============\nextracting molecule # = 1\n"
     ]
    },
    {
     "name": "stdout",
     "output_type": "stream",
     "text": [
      "extracting molecule # = 2\nextracting molecule # = 3\nextracting molecule # = 4\nextracting molecule # = 5\nextracting molecule # = 6\nextracting molecule # = 7\nextracting molecule # = 8\nextracting molecule # = 9\nextracting molecule # = 10\nextracting molecule # = 11\nextracting molecule # = 12\nextracting molecule # = 13\nextracting molecule # = 14\nextracting molecule # = 15\nextracting molecule # = 16\nextracting molecule # = 17\nextracting molecule # = 18\nextracting molecule # = 19\nextracting molecule # = 20\nextracting molecule # = 21\nextracting molecule # = 22\nextracting molecule # = 23\nextracting molecule # = 24\nextracting molecule # = 25\nextracting molecule # = 26\nextracting molecule # = 27\nextracting molecule # = 28\nextracting molecule # = 29\nextracting molecule # = 30\n"
     ]
    },
    {
     "name": "stdout",
     "output_type": "stream",
     "text": [
      "extracting molecule # = 31\nextracting molecule # = 32\nextracting molecule # = 33\nextracting molecule # = 34\nextracting molecule # = 35\nextracting molecule # = 36\nextracting molecule # = 37\nextracting molecule # = 38\nextracting molecule # = 39\nextracting molecule # = 40\nextracting molecule # = 41\nextracting molecule # = 42\nextracting molecule # = 43\nextracting molecule # = 44\nextracting molecule # = 45\nextracting molecule # = 46\nextracting molecule # = 47\nextracting molecule # = 48\nextracting molecule # = 49\nextracting molecule # = 50\nextracting molecule # = 51\nextracting molecule # = 52\nedge molecule detected, replacing molecule but not extracting\nextracting molecule # = 53\nextracting molecule # = 54\nextracting molecule # = 55\nextracting molecule # = 56\nextracting molecule # = 57\nextracting molecule # = 58\n"
     ]
    },
    {
     "name": "stdout",
     "output_type": "stream",
     "text": [
      "extracting molecule # = 59\nextracting molecule # = 60\nextracting molecule # = 61\nextracting molecule # = 62\nextracting molecule # = 63\nextracting molecule # = 64\nextracting molecule # = 65\nextracting molecule # = 66\nextracting molecule # = 67\nextracting molecule # = 68\nextracting molecule # = 69\nedge molecule detected, replacing molecule but not extracting\nextracting molecule # = 70\nextracting molecule # = 71\nextracting molecule # = 72\nextracting molecule # = 73\nextracting molecule # = 74\nextracting molecule # = 75\nextracting molecule # = 76\nextracting molecule # = 77\nextracting molecule # = 78\nextracting molecule # = 79\nextracting molecule # = 80\nextracting molecule # = 81\nextracting molecule # = 82\nextracting molecule # = 83\nextracting molecule # = 84\nextracting molecule # = 85\nextracting molecule # = 86\nextracting molecule # = 87\n"
     ]
    },
    {
     "name": "stdout",
     "output_type": "stream",
     "text": [
      "extracting molecule # = 88\nextracting molecule # = 89\nextracting molecule # = 90\nextracting molecule # = 91\nextracting molecule # = 92\nextracting molecule # = 93\nextracting molecule # = 94\nextracting molecule # = 95\nextracting molecule # = 96\nextracting molecule # = 97\nextracting molecule # = 98\nextracting molecule # = 99\nextracting molecule # = 100\nextracting molecule # = 101\nextracting molecule # = 102\nextracting molecule # = 103\nextracting molecule # = 104\nedge molecule detected, replacing molecule but not extracting\nextracting molecule # = 105\nextracting molecule # = 106\nextracting molecule # = 107\nextracting molecule # = 108\nextracting molecule # = 109\nextracting molecule # = 110\nextracting molecule # = 111\nextracting molecule # = 112\nextracting molecule # = 113\nextracting molecule # = 114\nextracting molecule # = 115\n"
     ]
    },
    {
     "name": "stdout",
     "output_type": "stream",
     "text": [
      "extracting molecule # = 116\nextracting molecule # = 117\nextracting molecule # = 118\nextracting molecule # = 119\nextracting molecule # = 120\nextracting molecule # = 121\nextracting molecule # = 122\nextracting molecule # = 123\nextracting molecule # = 124\nextracting molecule # = 125\nextracting molecule # = 126\nextracting molecule # = 127\nextracting molecule # = 128\nextracting molecule # = 129\nextracting molecule # = 130\nextracting molecule # = 131\nextracting molecule # = 132\nextracting molecule # = 133\nextracting molecule # = 134\nextracting molecule # = 135\nextracting molecule # = 136\nextracting molecule # = 137\nextracting molecule # = 138\nextracting molecule # = 139\nextracting molecule # = 140\nextracting molecule # = 141\nextracting molecule # = 142\nextracting molecule # = 143\nextracting molecule # = 144\n"
     ]
    },
    {
     "name": "stdout",
     "output_type": "stream",
     "text": [
      "extracting molecule # = 145\nextracting molecule # = 146\nextracting molecule # = 147\nextracting molecule # = 148\nextracting molecule # = 149\nextracting molecule # = 150\nextracting molecule # = 151\nextracting molecule # = 152\nextracting molecule # = 153\nextracting molecule # = 154\nextracting molecule # = 155\nextracting molecule # = 156\nextracting molecule # = 157\nextracting molecule # = 158\nextracting molecule # = 159\n=====================================\n========== z=9 stack ==============\nextracting molecule # = 1\nextracting molecule # = 2\nextracting molecule # = 3\nextracting molecule # = 4\nextracting molecule # = 5\nextracting molecule # = 6\nextracting molecule # = 7\nextracting molecule # = 8\nextracting molecule # = 9\nextracting molecule # = 10\n"
     ]
    },
    {
     "name": "stdout",
     "output_type": "stream",
     "text": [
      "extracting molecule # = 11\nextracting molecule # = 12\nextracting molecule # = 13\nextracting molecule # = 14\nextracting molecule # = 15\nextracting molecule # = 16\nextracting molecule # = 17\nextracting molecule # = 18\nextracting molecule # = 19\nextracting molecule # = 20\nextracting molecule # = 21\nextracting molecule # = 22\nextracting molecule # = 23\nextracting molecule # = 24\nextracting molecule # = 25\nextracting molecule # = 26\nextracting molecule # = 27\nextracting molecule # = 28\nextracting molecule # = 29\nextracting molecule # = 30\nextracting molecule # = 31\nextracting molecule # = 32\nextracting molecule # = 33\nextracting molecule # = 34\nextracting molecule # = 35\nextracting molecule # = 36\nextracting molecule # = 37\nextracting molecule # = 38\nextracting molecule # = 39\nextracting molecule # = 40\n"
     ]
    },
    {
     "name": "stdout",
     "output_type": "stream",
     "text": [
      "extracting molecule # = 41\nextracting molecule # = 42\nextracting molecule # = 43\nextracting molecule # = 44\nextracting molecule # = 45\nextracting molecule # = 46\nextracting molecule # = 47\nextracting molecule # = 48\nextracting molecule # = 49\nextracting molecule # = 50\nextracting molecule # = 51\nextracting molecule # = 52\nextracting molecule # = 53\nextracting molecule # = 54\nextracting molecule # = 55\nextracting molecule # = 56\nextracting molecule # = 57\nextracting molecule # = 58\nextracting molecule # = 59\nextracting molecule # = 60\nextracting molecule # = 61\nextracting molecule # = 62\nextracting molecule # = 63\nextracting molecule # = 64\nextracting molecule # = 65\nextracting molecule # = 66\nextracting molecule # = 67\nedge molecule detected, replacing molecule but not extracting\nextracting molecule # = 68\nextracting molecule # = 69\n"
     ]
    },
    {
     "name": "stdout",
     "output_type": "stream",
     "text": [
      "extracting molecule # = 70\nextracting molecule # = 71\nextracting molecule # = 72\nextracting molecule # = 73\nextracting molecule # = 74\nextracting molecule # = 75\nextracting molecule # = 76\nextracting molecule # = 77\nextracting molecule # = 78\nextracting molecule # = 79\nextracting molecule # = 80\nextracting molecule # = 81\nextracting molecule # = 82\nextracting molecule # = 83\nextracting molecule # = 84\nextracting molecule # = 85\nextracting molecule # = 86\nextracting molecule # = 87\nextracting molecule # = 88\nextracting molecule # = 89\nedge molecule detected, replacing molecule but not extracting\nextracting molecule # = 90\nextracting molecule # = 91\nextracting molecule # = 92\nextracting molecule # = 93\nextracting molecule # = 94\nextracting molecule # = 95\nextracting molecule # = 96\nedge molecule detected, replacing molecule but not extracting\nextracting molecule # = 97\nextracting molecule # = 98\nextracting molecule # = 99\n"
     ]
    },
    {
     "name": "stdout",
     "output_type": "stream",
     "text": [
      "extracting molecule # = 100\nextracting molecule # = 101\nextracting molecule # = 102\nextracting molecule # = 103\nextracting molecule # = 104\nextracting molecule # = 105\nextracting molecule # = 106\nextracting molecule # = 107\nextracting molecule # = 108\nextracting molecule # = 109\nextracting molecule # = 110\nextracting molecule # = 111\nextracting molecule # = 112\nedge molecule detected, replacing molecule but not extracting\nextracting molecule # = 113\nextracting molecule # = 114\nextracting molecule # = 115\nextracting molecule # = 116\nextracting molecule # = 117\nextracting molecule # = 118\nextracting molecule # = 119\nextracting molecule # = 120\nextracting molecule # = 121\nextracting molecule # = 122\nextracting molecule # = 123\nextracting molecule # = 124\nextracting molecule # = 125\nextracting molecule # = 126\nextracting molecule # = 127\nextracting molecule # = 128\n"
     ]
    },
    {
     "name": "stdout",
     "output_type": "stream",
     "text": [
      "extracting molecule # = 129\nextracting molecule # = 130\nextracting molecule # = 131\nextracting molecule # = 132\nextracting molecule # = 133\nextracting molecule # = 134\nextracting molecule # = 135\nextracting molecule # = 136\nextracting molecule # = 137\nextracting molecule # = 138\nextracting molecule # = 139\nextracting molecule # = 140\nextracting molecule # = 141\nextracting molecule # = 142\nextracting molecule # = 143\nextracting molecule # = 144\nextracting molecule # = 145\nextracting molecule # = 146\nextracting molecule # = 147\nextracting molecule # = 148\nextracting molecule # = 149\nextracting molecule # = 150\nextracting molecule # = 151\nextracting molecule # = 152\nextracting molecule # = 153\nextracting molecule # = 154\nextracting molecule # = 155\nextracting molecule # = 156\n"
     ]
    },
    {
     "name": "stdout",
     "output_type": "stream",
     "text": [
      "extracting molecule # = 157\nextracting molecule # = 158\nextracting molecule # = 159\nextracting molecule # = 160\nextracting molecule # = 161\nextracting molecule # = 162\nextracting molecule # = 163\nextracting molecule # = 164\nextracting molecule # = 165\nextracting molecule # = 166\nextracting molecule # = 167\nextracting molecule # = 168\nextracting molecule # = 169\nextracting molecule # = 170\nextracting molecule # = 171\nextracting molecule # = 172\nextracting molecule # = 173\nextracting molecule # = 174\nextracting molecule # = 175\nextracting molecule # = 176\nextracting molecule # = 177\nextracting molecule # = 178\nextracting molecule # = 179\nextracting molecule # = 180\nextracting molecule # = 181\nextracting molecule # = 182\nextracting molecule # = 183\nextracting molecule # = 184\nextracting molecule # = 185\n"
     ]
    },
    {
     "name": "stdout",
     "output_type": "stream",
     "text": [
      "extracting molecule # = 186\nextracting molecule # = 187\nextracting molecule # = 188\nextracting molecule # = 189\nextracting molecule # = 190\nextracting molecule # = 191\nextracting molecule # = 192\nextracting molecule # = 193\nextracting molecule # = 194\nextracting molecule # = 195\nextracting molecule # = 196\nextracting molecule # = 197\nextracting molecule # = 198\nextracting molecule # = 199\nextracting molecule # = 200\n=====================================\n========== z=10 stack ==============\nextracting molecule # = 1\nextracting molecule # = 2\nextracting molecule # = 3\nextracting molecule # = 4\nextracting molecule # = 5\nextracting molecule # = 6\nextracting molecule # = 7\nextracting molecule # = 8\nextracting molecule # = 9\n"
     ]
    },
    {
     "name": "stdout",
     "output_type": "stream",
     "text": [
      "extracting molecule # = 10\nextracting molecule # = 11\nextracting molecule # = 12\nextracting molecule # = 13\nextracting molecule # = 14\nextracting molecule # = 15\nextracting molecule # = 16\nextracting molecule # = 17\nextracting molecule # = 18\nextracting molecule # = 19\nextracting molecule # = 20\nextracting molecule # = 21\nextracting molecule # = 22\nextracting molecule # = 23\nextracting molecule # = 24\nextracting molecule # = 25\nextracting molecule # = 26\nextracting molecule # = 27\nextracting molecule # = 28\nextracting molecule # = 29\nextracting molecule # = 30\nextracting molecule # = 31\nextracting molecule # = 32\nextracting molecule # = 33\nextracting molecule # = 34\nextracting molecule # = 35\nextracting molecule # = 36\nextracting molecule # = 37\nextracting molecule # = 38\n"
     ]
    },
    {
     "name": "stdout",
     "output_type": "stream",
     "text": [
      "extracting molecule # = 39\nextracting molecule # = 40\nextracting molecule # = 41\nextracting molecule # = 42\nextracting molecule # = 43\nextracting molecule # = 44\nextracting molecule # = 45\nextracting molecule # = 46\nextracting molecule # = 47\nextracting molecule # = 48\nextracting molecule # = 49\nextracting molecule # = 50\nextracting molecule # = 51\nextracting molecule # = 52\nextracting molecule # = 53\nextracting molecule # = 54\nextracting molecule # = 55\nextracting molecule # = 56\nextracting molecule # = 57\nextracting molecule # = 58\nextracting molecule # = 59\nextracting molecule # = 60\nextracting molecule # = 61\nextracting molecule # = 62\nextracting molecule # = 63\nextracting molecule # = 64\nextracting molecule # = 65\nextracting molecule # = 66\nextracting molecule # = 67\n"
     ]
    },
    {
     "name": "stdout",
     "output_type": "stream",
     "text": [
      "extracting molecule # = 68\nextracting molecule # = 69\nextracting molecule # = 70\nextracting molecule # = 71\nextracting molecule # = 72\nextracting molecule # = 73\nextracting molecule # = 74\nextracting molecule # = 75\nextracting molecule # = 76\nextracting molecule # = 77\nextracting molecule # = 78\nextracting molecule # = 79\nextracting molecule # = 80\nedge molecule detected, replacing molecule but not extracting\nextracting molecule # = 81\nextracting molecule # = 82\nextracting molecule # = 83\nextracting molecule # = 84\nextracting molecule # = 85\nextracting molecule # = 86\nextracting molecule # = 87\nextracting molecule # = 88\nextracting molecule # = 89\nextracting molecule # = 90\nextracting molecule # = 91\nextracting molecule # = 92\nextracting molecule # = 93\nextracting molecule # = 94\n"
     ]
    },
    {
     "name": "stdout",
     "output_type": "stream",
     "text": [
      "extracting molecule # = 95\nextracting molecule # = 96\nextracting molecule # = 97\nextracting molecule # = 98\nextracting molecule # = 99\nextracting molecule # = 100\nextracting molecule # = 101\nextracting molecule # = 102\nextracting molecule # = 103\nextracting molecule # = 104\nextracting molecule # = 105\nextracting molecule # = 106\nextracting molecule # = 107\nextracting molecule # = 108\nextracting molecule # = 109\nextracting molecule # = 110\nextracting molecule # = 111\nextracting molecule # = 112\nextracting molecule # = 113\nextracting molecule # = 114\nextracting molecule # = 115\nextracting molecule # = 116\nedge molecule detected, replacing molecule but not extracting\nextracting molecule # = 117\nextracting molecule # = 118\nextracting molecule # = 119\nextracting molecule # = 120\nextracting molecule # = 121\nextracting molecule # = 122\n"
     ]
    },
    {
     "name": "stdout",
     "output_type": "stream",
     "text": [
      "extracting molecule # = 123\nextracting molecule # = 124\nextracting molecule # = 125\nextracting molecule # = 126\nextracting molecule # = 127\nextracting molecule # = 128\nextracting molecule # = 129\nextracting molecule # = 130\nextracting molecule # = 131\nextracting molecule # = 132\nextracting molecule # = 133\nextracting molecule # = 134\nextracting molecule # = 135\nextracting molecule # = 136\nextracting molecule # = 137\nedge molecule detected, replacing molecule but not extracting\nextracting molecule # = 138\nextracting molecule # = 139\nextracting molecule # = 140\nextracting molecule # = 141\nextracting molecule # = 142\nextracting molecule # = 143\nextracting molecule # = 144\nextracting molecule # = 145\nextracting molecule # = 146\nextracting molecule # = 147\nextracting molecule # = 148\nextracting molecule # = 149\nextracting molecule # = 150\n"
     ]
    },
    {
     "name": "stdout",
     "output_type": "stream",
     "text": [
      "extracting molecule # = 151\nextracting molecule # = 152\nextracting molecule # = 153\nextracting molecule # = 154\nextracting molecule # = 155\nextracting molecule # = 156\nextracting molecule # = 157\nextracting molecule # = 158\nextracting molecule # = 159\nextracting molecule # = 160\nextracting molecule # = 161\nextracting molecule # = 162\nextracting molecule # = 163\nextracting molecule # = 164\nextracting molecule # = 165\nextracting molecule # = 166\nextracting molecule # = 167\nextracting molecule # = 168\nextracting molecule # = 169\nextracting molecule # = 170\nextracting molecule # = 171\nextracting molecule # = 172\nextracting molecule # = 173\nextracting molecule # = 174\nextracting molecule # = 175\nextracting molecule # = 176\nextracting molecule # = 177\nextracting molecule # = 178\nextracting molecule # = 179\n"
     ]
    },
    {
     "name": "stdout",
     "output_type": "stream",
     "text": [
      "extracting molecule # = 180\nextracting molecule # = 181\nextracting molecule # = 182\nextracting molecule # = 183\nextracting molecule # = 184\nextracting molecule # = 185\nextracting molecule # = 186\nextracting molecule # = 187\nextracting molecule # = 188\nextracting molecule # = 189\nextracting molecule # = 190\nextracting molecule # = 191\nextracting molecule # = 192\nextracting molecule # = 193\nextracting molecule # = 194\nextracting molecule # = 195\nextracting molecule # = 196\nextracting molecule # = 197\nextracting molecule # = 198\nextracting molecule # = 199\nextracting molecule # = 200\nextracting molecule # = 201\nextracting molecule # = 202\nextracting molecule # = 203\nextracting molecule # = 204\nextracting molecule # = 205\nextracting molecule # = 206\nextracting molecule # = 207\nextracting molecule # = 208\n"
     ]
    },
    {
     "name": "stdout",
     "output_type": "stream",
     "text": [
      "extracting molecule # = 209\nextracting molecule # = 210\nextracting molecule # = 211\nextracting molecule # = 212\nedge molecule detected, replacing molecule but not extracting\nextracting molecule # = 213\nextracting molecule # = 214\nextracting molecule # = 215\nextracting molecule # = 216\nextracting molecule # = 217\nextracting molecule # = 218\n=====================================\n========== z=11 stack ==============\nextracting molecule # = 1\nextracting molecule # = 2\nextracting molecule # = 3\nextracting molecule # = 4\nextracting molecule # = 5\nextracting molecule # = 6\nextracting molecule # = 7\nextracting molecule # = 8\nextracting molecule # = 9\nextracting molecule # = 10\nextracting molecule # = 11\nextracting molecule # = 12\nextracting molecule # = 13\nextracting molecule # = 14\nextracting molecule # = 15\nextracting molecule # = 16\nextracting molecule # = 17\nextracting molecule # = 18\nextracting molecule # = 19\n"
     ]
    },
    {
     "name": "stdout",
     "output_type": "stream",
     "text": [
      "extracting molecule # = 20\nextracting molecule # = 21\nextracting molecule # = 22\nextracting molecule # = 23\nextracting molecule # = 24\nextracting molecule # = 25\nextracting molecule # = 26\nextracting molecule # = 27\nextracting molecule # = 28\nextracting molecule # = 29\nextracting molecule # = 30\nextracting molecule # = 31\nextracting molecule # = 32\nextracting molecule # = 33\nextracting molecule # = 34\nextracting molecule # = 35\nextracting molecule # = 36\nextracting molecule # = 37\nextracting molecule # = 38\nextracting molecule # = 39\nextracting molecule # = 40\nextracting molecule # = 41\nextracting molecule # = 42\nextracting molecule # = 43\nextracting molecule # = 44\nextracting molecule # = 45\nextracting molecule # = 46\nextracting molecule # = 47\nextracting molecule # = 48\nextracting molecule # = 49\nextracting molecule # = 50\nextracting molecule # = 51\nextracting molecule # = 52\nextracting molecule # = 53\nextracting molecule # = 54\nextracting molecule # = 55\nextracting molecule # = 56\n"
     ]
    },
    {
     "name": "stdout",
     "output_type": "stream",
     "text": [
      "extracting molecule # = 57\nextracting molecule # = 58\nextracting molecule # = 59\nextracting molecule # = 60\nextracting molecule # = 61\nextracting molecule # = 62\nextracting molecule # = 63\nextracting molecule # = 64\nextracting molecule # = 65\nextracting molecule # = 66\nextracting molecule # = 67\nextracting molecule # = 68\nextracting molecule # = 69\nextracting molecule # = 70\nextracting molecule # = 71\nextracting molecule # = 72\nextracting molecule # = 73\nextracting molecule # = 74\nextracting molecule # = 75\nextracting molecule # = 76\nextracting molecule # = 77\nextracting molecule # = 78\nextracting molecule # = 79\nextracting molecule # = 80\nextracting molecule # = 81\nextracting molecule # = 82\nextracting molecule # = 83\nextracting molecule # = 84\nextracting molecule # = 85\nedge molecule detected, replacing molecule but not extracting\nextracting molecule # = 86\nextracting molecule # = 87\nextracting molecule # = 88\nextracting molecule # = 89\nextracting molecule # = 90\nextracting molecule # = 91\nextracting molecule # = 92\nextracting molecule # = 93\n"
     ]
    },
    {
     "name": "stdout",
     "output_type": "stream",
     "text": [
      "extracting molecule # = 94\nextracting molecule # = 95\nextracting molecule # = 96\nextracting molecule # = 97\nextracting molecule # = 98\nextracting molecule # = 99\nextracting molecule # = 100\nextracting molecule # = 101\nextracting molecule # = 102\nextracting molecule # = 103\nextracting molecule # = 104\nextracting molecule # = 105\nextracting molecule # = 106\nextracting molecule # = 107\nextracting molecule # = 108\nextracting molecule # = 109\nextracting molecule # = 110\nextracting molecule # = 111\nextracting molecule # = 112\nextracting molecule # = 113\nextracting molecule # = 114\nextracting molecule # = 115\nextracting molecule # = 116\nextracting molecule # = 117\nextracting molecule # = 118\nextracting molecule # = 119\nedge molecule detected, replacing molecule but not extracting\nextracting molecule # = 120\nextracting molecule # = 121\nextracting molecule # = 122\nextracting molecule # = 123\nextracting molecule # = 124\nextracting molecule # = 125\nextracting molecule # = 126\nextracting molecule # = 127\nextracting molecule # = 128\nextracting molecule # = 129\nextracting molecule # = 130\n"
     ]
    },
    {
     "name": "stdout",
     "output_type": "stream",
     "text": [
      "extracting molecule # = 131\nedge molecule detected, replacing molecule but not extracting\nextracting molecule # = 132\nextracting molecule # = 133\nextracting molecule # = 134\nextracting molecule # = 135\nextracting molecule # = 136\nextracting molecule # = 137\nextracting molecule # = 138\nextracting molecule # = 139\nextracting molecule # = 140\nextracting molecule # = 141\nextracting molecule # = 142\nextracting molecule # = 143\nextracting molecule # = 144\nextracting molecule # = 145\nextracting molecule # = 146\nextracting molecule # = 147\nextracting molecule # = 148\nextracting molecule # = 149\nextracting molecule # = 150\nextracting molecule # = 151\nextracting molecule # = 152\nextracting molecule # = 153\nextracting molecule # = 154\nextracting molecule # = 155\nextracting molecule # = 156\nextracting molecule # = 157\nextracting molecule # = 158\nextracting molecule # = 159\nextracting molecule # = 160\nextracting molecule # = 161\nextracting molecule # = 162\nextracting molecule # = 163\nextracting molecule # = 164\nextracting molecule # = 165\nextracting molecule # = 166\n"
     ]
    },
    {
     "name": "stdout",
     "output_type": "stream",
     "text": [
      "extracting molecule # = 167\nextracting molecule # = 168\nextracting molecule # = 169\nextracting molecule # = 170\nextracting molecule # = 171\nextracting molecule # = 172\nextracting molecule # = 173\nextracting molecule # = 174\nextracting molecule # = 175\nextracting molecule # = 176\nextracting molecule # = 177\nextracting molecule # = 178\nextracting molecule # = 179\nedge molecule detected, replacing molecule but not extracting\nextracting molecule # = 180\nextracting molecule # = 181\nextracting molecule # = 182\nextracting molecule # = 183\nextracting molecule # = 184\nextracting molecule # = 185\nextracting molecule # = 186\nextracting molecule # = 187\nextracting molecule # = 188\nextracting molecule # = 189\nextracting molecule # = 190\nextracting molecule # = 191\nextracting molecule # = 192\nextracting molecule # = 193\nextracting molecule # = 194\nextracting molecule # = 195\nextracting molecule # = 196\nextracting molecule # = 197\nextracting molecule # = 198\nextracting molecule # = 199\nextracting molecule # = 200\nextracting molecule # = 201\nextracting molecule # = 202\nextracting molecule # = 203\n"
     ]
    },
    {
     "name": "stdout",
     "output_type": "stream",
     "text": [
      "extracting molecule # = 204\nextracting molecule # = 205\nextracting molecule # = 206\nextracting molecule # = 207\nextracting molecule # = 208\nextracting molecule # = 209\nextracting molecule # = 210\nextracting molecule # = 211\nextracting molecule # = 212\nextracting molecule # = 213\nextracting molecule # = 214\nextracting molecule # = 215\nedge molecule detected, replacing molecule but not extracting\nextracting molecule # = 216\nextracting molecule # = 217\nextracting molecule # = 218\nextracting molecule # = 219\nextracting molecule # = 220\nextracting molecule # = 221\nextracting molecule # = 222\nextracting molecule # = 223\nextracting molecule # = 224\nextracting molecule # = 225\nextracting molecule # = 226\nextracting molecule # = 227\nextracting molecule # = 228\nextracting molecule # = 229\nextracting molecule # = 230\nextracting molecule # = 231\nextracting molecule # = 232\n=====================================\n========== z=12 stack ==============\nextracting molecule # = 1\nextracting molecule # = 2\nextracting molecule # = 3\n"
     ]
    },
    {
     "name": "stdout",
     "output_type": "stream",
     "text": [
      "extracting molecule # = 4\nextracting molecule # = 5\nextracting molecule # = 6\nextracting molecule # = 7\nextracting molecule # = 8\nextracting molecule # = 9\nextracting molecule # = 10\nextracting molecule # = 11\nextracting molecule # = 12\nextracting molecule # = 13\nextracting molecule # = 14\nextracting molecule # = 15\nextracting molecule # = 16\nextracting molecule # = 17\nextracting molecule # = 18\nextracting molecule # = 19\nextracting molecule # = 20\nextracting molecule # = 21\nextracting molecule # = 22\nextracting molecule # = 23\nextracting molecule # = 24\nextracting molecule # = 25\nextracting molecule # = 26\nextracting molecule # = 27\nextracting molecule # = 28\nextracting molecule # = 29\nextracting molecule # = 30\nextracting molecule # = 31\nextracting molecule # = 32\nextracting molecule # = 33\nextracting molecule # = 34\nextracting molecule # = 35\nextracting molecule # = 36\nextracting molecule # = 37\nextracting molecule # = 38\nextracting molecule # = 39\nextracting molecule # = 40\n"
     ]
    },
    {
     "name": "stdout",
     "output_type": "stream",
     "text": [
      "extracting molecule # = 41\nextracting molecule # = 42\nextracting molecule # = 43\nextracting molecule # = 44\nextracting molecule # = 45\nextracting molecule # = 46\nextracting molecule # = 47\nextracting molecule # = 48\nextracting molecule # = 49\nextracting molecule # = 50\nextracting molecule # = 51\nextracting molecule # = 52\nextracting molecule # = 53\nextracting molecule # = 54\nextracting molecule # = 55\nextracting molecule # = 56\nextracting molecule # = 57\nextracting molecule # = 58\nextracting molecule # = 59\nextracting molecule # = 60\nextracting molecule # = 61\nextracting molecule # = 62\nextracting molecule # = 63\nextracting molecule # = 64\nextracting molecule # = 65\nextracting molecule # = 66\nextracting molecule # = 67\nextracting molecule # = 68\nextracting molecule # = 69\nextracting molecule # = 70\nextracting molecule # = 71\nextracting molecule # = 72\nextracting molecule # = 73\nextracting molecule # = 74\nextracting molecule # = 75\nextracting molecule # = 76\nextracting molecule # = 77\n"
     ]
    },
    {
     "name": "stdout",
     "output_type": "stream",
     "text": [
      "extracting molecule # = 78\nextracting molecule # = 79\nextracting molecule # = 80\nextracting molecule # = 81\nextracting molecule # = 82\nextracting molecule # = 83\nextracting molecule # = 84\nextracting molecule # = 85\nextracting molecule # = 86\nextracting molecule # = 87\nextracting molecule # = 88\nextracting molecule # = 89\nextracting molecule # = 90\nextracting molecule # = 91\nextracting molecule # = 92\nextracting molecule # = 93\nextracting molecule # = 94\nextracting molecule # = 95\nextracting molecule # = 96\nextracting molecule # = 97\nextracting molecule # = 98\nextracting molecule # = 99\nextracting molecule # = 100\nextracting molecule # = 101\nextracting molecule # = 102\nextracting molecule # = 103\nextracting molecule # = 104\nextracting molecule # = 105\nextracting molecule # = 106\nextracting molecule # = 107\nedge molecule detected, replacing molecule but not extracting\nextracting molecule # = 108\nextracting molecule # = 109\nextracting molecule # = 110\nextracting molecule # = 111\nextracting molecule # = 112\nextracting molecule # = 113\nextracting molecule # = 114\n"
     ]
    },
    {
     "name": "stdout",
     "output_type": "stream",
     "text": [
      "extracting molecule # = 115\nextracting molecule # = 116\nextracting molecule # = 117\nextracting molecule # = 118\nextracting molecule # = 119\nextracting molecule # = 120\nextracting molecule # = 121\nextracting molecule # = 122\nextracting molecule # = 123\nextracting molecule # = 124\nextracting molecule # = 125\nextracting molecule # = 126\nextracting molecule # = 127\nextracting molecule # = 128\nextracting molecule # = 129\nextracting molecule # = 130\nextracting molecule # = 131\nextracting molecule # = 132\nextracting molecule # = 133\nextracting molecule # = 134\nextracting molecule # = 135\nedge molecule detected, replacing molecule but not extracting\nextracting molecule # = 136\nextracting molecule # = 137\nextracting molecule # = 138\nextracting molecule # = 139\nextracting molecule # = 140\nextracting molecule # = 141\nextracting molecule # = 142\nextracting molecule # = 143\nextracting molecule # = 144\nextracting molecule # = 145\nextracting molecule # = 146\nextracting molecule # = 147\nextracting molecule # = 148\nextracting molecule # = 149\nextracting molecule # = 150\nextracting molecule # = 151\n"
     ]
    },
    {
     "name": "stdout",
     "output_type": "stream",
     "text": [
      "extracting molecule # = 152\nextracting molecule # = 153\nextracting molecule # = 154\nextracting molecule # = 155\nextracting molecule # = 156\nextracting molecule # = 157\nextracting molecule # = 158\nextracting molecule # = 159\nextracting molecule # = 160\nextracting molecule # = 161\nextracting molecule # = 162\nextracting molecule # = 163\nextracting molecule # = 164\nextracting molecule # = 165\nextracting molecule # = 166\nextracting molecule # = 167\nextracting molecule # = 168\nextracting molecule # = 169\nextracting molecule # = 170\nextracting molecule # = 171\nextracting molecule # = 172\nextracting molecule # = 173\nextracting molecule # = 174\nextracting molecule # = 175\nextracting molecule # = 176\nextracting molecule # = 177\nedge molecule detected, replacing molecule but not extracting\nextracting molecule # = 178\nextracting molecule # = 179\nextracting molecule # = 180\nextracting molecule # = 181\nextracting molecule # = 182\nextracting molecule # = 183\nextracting molecule # = 184\nextracting molecule # = 185\nextracting molecule # = 186\nextracting molecule # = 187\nextracting molecule # = 188\n"
     ]
    },
    {
     "name": "stdout",
     "output_type": "stream",
     "text": [
      "extracting molecule # = 189\nextracting molecule # = 190\nextracting molecule # = 191\nextracting molecule # = 192\nextracting molecule # = 193\nextracting molecule # = 194\nextracting molecule # = 195\nextracting molecule # = 196\nextracting molecule # = 197\nextracting molecule # = 198\nextracting molecule # = 199\nextracting molecule # = 200\nextracting molecule # = 201\nextracting molecule # = 202\nextracting molecule # = 203\nextracting molecule # = 204\nextracting molecule # = 205\nextracting molecule # = 206\nextracting molecule # = 207\nextracting molecule # = 208\nextracting molecule # = 209\nextracting molecule # = 210\nextracting molecule # = 211\nextracting molecule # = 212\nextracting molecule # = 213\nextracting molecule # = 214\nextracting molecule # = 215\nextracting molecule # = 216\nextracting molecule # = 217\nextracting molecule # = 218\nextracting molecule # = 219\nextracting molecule # = 220\nextracting molecule # = 221\nextracting molecule # = 222\nedge molecule detected, replacing molecule but not extracting\nextracting molecule # = 223\nextracting molecule # = 224\nextracting molecule # = 225\n"
     ]
    },
    {
     "name": "stdout",
     "output_type": "stream",
     "text": [
      "extracting molecule # = 226\nextracting molecule # = 227\nextracting molecule # = 228\nextracting molecule # = 229\nextracting molecule # = 230\nextracting molecule # = 231\nextracting molecule # = 232\nextracting molecule # = 233\nextracting molecule # = 234\n=====================================\n========== z=13 stack ==============\nextracting molecule # = 1\nextracting molecule # = 2\nextracting molecule # = 3\nextracting molecule # = 4\nextracting molecule # = 5\nextracting molecule # = 6\nextracting molecule # = 7\nextracting molecule # = 8\nextracting molecule # = 9\nextracting molecule # = 10\nextracting molecule # = 11\nextracting molecule # = 12\nextracting molecule # = 13\nextracting molecule # = 14\nextracting molecule # = 15\nextracting molecule # = 16\nextracting molecule # = 17\nextracting molecule # = 18\nextracting molecule # = 19\nextracting molecule # = 20\nextracting molecule # = 21\n"
     ]
    },
    {
     "name": "stdout",
     "output_type": "stream",
     "text": [
      "extracting molecule # = 22\nextracting molecule # = 23\nextracting molecule # = 24\nextracting molecule # = 25\nextracting molecule # = 26\nextracting molecule # = 27\nextracting molecule # = 28\nextracting molecule # = 29\nextracting molecule # = 30\nextracting molecule # = 31\nextracting molecule # = 32\nextracting molecule # = 33\nextracting molecule # = 34\nextracting molecule # = 35\nextracting molecule # = 36\nextracting molecule # = 37\nextracting molecule # = 38\nextracting molecule # = 39\nextracting molecule # = 40\nextracting molecule # = 41\nextracting molecule # = 42\nextracting molecule # = 43\nextracting molecule # = 44\nextracting molecule # = 45\nextracting molecule # = 46\nextracting molecule # = 47\nextracting molecule # = 48\nextracting molecule # = 49\nextracting molecule # = 50\nextracting molecule # = 51\nextracting molecule # = 52\nextracting molecule # = 53\nextracting molecule # = 54\nextracting molecule # = 55\nextracting molecule # = 56\nextracting molecule # = 57\nextracting molecule # = 58\n"
     ]
    },
    {
     "name": "stdout",
     "output_type": "stream",
     "text": [
      "extracting molecule # = 59\nextracting molecule # = 60\nextracting molecule # = 61\nextracting molecule # = 62\nextracting molecule # = 63\nextracting molecule # = 64\nextracting molecule # = 65\nextracting molecule # = 66\nextracting molecule # = 67\nextracting molecule # = 68\nextracting molecule # = 69\nextracting molecule # = 70\nextracting molecule # = 71\nextracting molecule # = 72\nextracting molecule # = 73\nextracting molecule # = 74\nextracting molecule # = 75\nextracting molecule # = 76\nextracting molecule # = 77\nextracting molecule # = 78\nextracting molecule # = 79\nextracting molecule # = 80\nextracting molecule # = 81\nextracting molecule # = 82\nextracting molecule # = 83\nextracting molecule # = 84\nextracting molecule # = 85\nextracting molecule # = 86\nextracting molecule # = 87\nextracting molecule # = 88\nextracting molecule # = 89\nextracting molecule # = 90\nextracting molecule # = 91\nextracting molecule # = 92\nextracting molecule # = 93\nextracting molecule # = 94\nextracting molecule # = 95\n"
     ]
    },
    {
     "name": "stdout",
     "output_type": "stream",
     "text": [
      "extracting molecule # = 96\nextracting molecule # = 97\nextracting molecule # = 98\nextracting molecule # = 99\nextracting molecule # = 100\nextracting molecule # = 101\nextracting molecule # = 102\nextracting molecule # = 103\nextracting molecule # = 104\nextracting molecule # = 105\nextracting molecule # = 106\nextracting molecule # = 107\nextracting molecule # = 108\nextracting molecule # = 109\nextracting molecule # = 110\nextracting molecule # = 111\nextracting molecule # = 112\nextracting molecule # = 113\nextracting molecule # = 114\nextracting molecule # = 115\nextracting molecule # = 116\nextracting molecule # = 117\nextracting molecule # = 118\nextracting molecule # = 119\nextracting molecule # = 120\nextracting molecule # = 121\nextracting molecule # = 122\nextracting molecule # = 123\nextracting molecule # = 124\nedge molecule detected, replacing molecule but not extracting\nextracting molecule # = 125\nextracting molecule # = 126\nextracting molecule # = 127\nextracting molecule # = 128\nextracting molecule # = 129\nextracting molecule # = 130\nextracting molecule # = 131\nextracting molecule # = 132\n"
     ]
    },
    {
     "name": "stdout",
     "output_type": "stream",
     "text": [
      "extracting molecule # = 133\nextracting molecule # = 134\nextracting molecule # = 135\nextracting molecule # = 136\nedge molecule detected, replacing molecule but not extracting\nextracting molecule # = 137\nextracting molecule # = 138\nextracting molecule # = 139\nextracting molecule # = 140\nextracting molecule # = 141\nextracting molecule # = 142\nextracting molecule # = 143\nextracting molecule # = 144\nextracting molecule # = 145\nextracting molecule # = 146\nextracting molecule # = 147\nextracting molecule # = 148\nextracting molecule # = 149\nextracting molecule # = 150\nextracting molecule # = 151\nextracting molecule # = 152\nextracting molecule # = 153\nextracting molecule # = 154\nextracting molecule # = 155\nextracting molecule # = 156\nextracting molecule # = 157\nextracting molecule # = 158\nextracting molecule # = 159\nextracting molecule # = 160\nextracting molecule # = 161\nextracting molecule # = 162\nextracting molecule # = 163\nextracting molecule # = 164\nextracting molecule # = 165\nextracting molecule # = 166\nextracting molecule # = 167\nextracting molecule # = 168\n"
     ]
    },
    {
     "name": "stdout",
     "output_type": "stream",
     "text": [
      "extracting molecule # = 169\nextracting molecule # = 170\nextracting molecule # = 171\nextracting molecule # = 172\nextracting molecule # = 173\nextracting molecule # = 174\nextracting molecule # = 175\nextracting molecule # = 176\nextracting molecule # = 177\nextracting molecule # = 178\nextracting molecule # = 179\nextracting molecule # = 180\nextracting molecule # = 181\nextracting molecule # = 182\nextracting molecule # = 183\nextracting molecule # = 184\nextracting molecule # = 185\nextracting molecule # = 186\nedge molecule detected, replacing molecule but not extracting\nextracting molecule # = 187\nextracting molecule # = 188\nextracting molecule # = 189\nextracting molecule # = 190\nextracting molecule # = 191\nextracting molecule # = 192\nextracting molecule # = 193\nextracting molecule # = 194\nextracting molecule # = 195\nextracting molecule # = 196\nextracting molecule # = 197\nextracting molecule # = 198\nextracting molecule # = 199\nextracting molecule # = 200\nextracting molecule # = 201\nextracting molecule # = 202\nextracting molecule # = 203\n"
     ]
    },
    {
     "name": "stdout",
     "output_type": "stream",
     "text": [
      "extracting molecule # = 204\nextracting molecule # = 205\nextracting molecule # = 206\nextracting molecule # = 207\nextracting molecule # = 208\nextracting molecule # = 209\nextracting molecule # = 210\nextracting molecule # = 211\nextracting molecule # = 212\nextracting molecule # = 213\nextracting molecule # = 214\nextracting molecule # = 215\nextracting molecule # = 216\nextracting molecule # = 217\nextracting molecule # = 218\nextracting molecule # = 219\nextracting molecule # = 220\nextracting molecule # = 221\nextracting molecule # = 222\nextracting molecule # = 223\nextracting molecule # = 224\nextracting molecule # = 225\nextracting molecule # = 226\nextracting molecule # = 227\nedge molecule detected, replacing molecule but not extracting\nextracting molecule # = 228\nextracting molecule # = 229\nextracting molecule # = 230\nextracting molecule # = 231\nextracting molecule # = 232\nextracting molecule # = 233\nextracting molecule # = 234\nextracting molecule # = 235\nextracting molecule # = 236\n=====================================\n========== z=14 stack ==============\n"
     ]
    },
    {
     "name": "stdout",
     "output_type": "stream",
     "text": [
      "extracting molecule # = 1\nextracting molecule # = 2\nextracting molecule # = 3\nextracting molecule # = 4\nextracting molecule # = 5\nextracting molecule # = 6\nextracting molecule # = 7\nextracting molecule # = 8\nextracting molecule # = 9\nextracting molecule # = 10\nextracting molecule # = 11\nextracting molecule # = 12\nextracting molecule # = 13\nextracting molecule # = 14\nextracting molecule # = 15\nextracting molecule # = 16\nextracting molecule # = 17\nextracting molecule # = 18\nextracting molecule # = 19\nextracting molecule # = 20\nextracting molecule # = 21\nextracting molecule # = 22\nextracting molecule # = 23\nextracting molecule # = 24\nextracting molecule # = 25\nextracting molecule # = 26\nextracting molecule # = 27\nextracting molecule # = 28\nextracting molecule # = 29\nextracting molecule # = 30\nextracting molecule # = 31\nextracting molecule # = 32\nextracting molecule # = 33\nextracting molecule # = 34\nextracting molecule # = 35\nextracting molecule # = 36\n"
     ]
    },
    {
     "name": "stdout",
     "output_type": "stream",
     "text": [
      "extracting molecule # = 37\nextracting molecule # = 38\nextracting molecule # = 39\nextracting molecule # = 40\nextracting molecule # = 41\nextracting molecule # = 42\nextracting molecule # = 43\nextracting molecule # = 44\nextracting molecule # = 45\nextracting molecule # = 46\nextracting molecule # = 47\nextracting molecule # = 48\nextracting molecule # = 49\nextracting molecule # = 50\nextracting molecule # = 51\nextracting molecule # = 52\nextracting molecule # = 53\nextracting molecule # = 54\nextracting molecule # = 55\nextracting molecule # = 56\nextracting molecule # = 57\nextracting molecule # = 58\nextracting molecule # = 59\nextracting molecule # = 60\nextracting molecule # = 61\nextracting molecule # = 62\nextracting molecule # = 63\nextracting molecule # = 64\nextracting molecule # = 65\nextracting molecule # = 66\nextracting molecule # = 67\nextracting molecule # = 68\nextracting molecule # = 69\nextracting molecule # = 70\nextracting molecule # = 71\nextracting molecule # = 72\nextracting molecule # = 73\n"
     ]
    },
    {
     "name": "stdout",
     "output_type": "stream",
     "text": [
      "extracting molecule # = 74\nextracting molecule # = 75\nextracting molecule # = 76\nextracting molecule # = 77\nextracting molecule # = 78\nextracting molecule # = 79\nextracting molecule # = 80\nextracting molecule # = 81\nextracting molecule # = 82\nextracting molecule # = 83\nextracting molecule # = 84\nextracting molecule # = 85\nextracting molecule # = 86\nextracting molecule # = 87\nextracting molecule # = 88\nextracting molecule # = 89\nextracting molecule # = 90\nextracting molecule # = 91\nextracting molecule # = 92\nextracting molecule # = 93\nextracting molecule # = 94\nextracting molecule # = 95\nextracting molecule # = 96\nextracting molecule # = 97\nextracting molecule # = 98\nextracting molecule # = 99\nextracting molecule # = 100\nextracting molecule # = 101\nextracting molecule # = 102\nextracting molecule # = 103\nextracting molecule # = 104\nextracting molecule # = 105\nextracting molecule # = 106\nextracting molecule # = 107\nextracting molecule # = 108\nextracting molecule # = 109\n"
     ]
    },
    {
     "name": "stdout",
     "output_type": "stream",
     "text": [
      "extracting molecule # = 110\nextracting molecule # = 111\nextracting molecule # = 112\nextracting molecule # = 113\nextracting molecule # = 114\nextracting molecule # = 115\nextracting molecule # = 116\nextracting molecule # = 117\nextracting molecule # = 118\nextracting molecule # = 119\nextracting molecule # = 120\nextracting molecule # = 121\nedge molecule detected, replacing molecule but not extracting\nextracting molecule # = 122\nextracting molecule # = 123\nextracting molecule # = 124\nextracting molecule # = 125\nextracting molecule # = 126\nextracting molecule # = 127\nextracting molecule # = 128\nextracting molecule # = 129\nextracting molecule # = 130\nextracting molecule # = 131\nextracting molecule # = 132\nextracting molecule # = 133\nextracting molecule # = 134\nextracting molecule # = 135\nextracting molecule # = 136\nedge molecule detected, replacing molecule but not extracting\nextracting molecule # = 137\nextracting molecule # = 138\nextracting molecule # = 139\nextracting molecule # = 140\nextracting molecule # = 141\nextracting molecule # = 142\nextracting molecule # = 143\nextracting molecule # = 144\nextracting molecule # = 145\n"
     ]
    },
    {
     "name": "stdout",
     "output_type": "stream",
     "text": [
      "extracting molecule # = 146\nextracting molecule # = 147\nextracting molecule # = 148\nextracting molecule # = 149\nextracting molecule # = 150\nextracting molecule # = 151\nextracting molecule # = 152\nextracting molecule # = 153\nextracting molecule # = 154\nextracting molecule # = 155\nextracting molecule # = 156\nextracting molecule # = 157\nextracting molecule # = 158\nextracting molecule # = 159\nextracting molecule # = 160\nextracting molecule # = 161\nextracting molecule # = 162\nextracting molecule # = 163\nextracting molecule # = 164\nextracting molecule # = 165\nextracting molecule # = 166\nextracting molecule # = 167\nextracting molecule # = 168\nextracting molecule # = 169\nextracting molecule # = 170\nextracting molecule # = 171\nextracting molecule # = 172\nextracting molecule # = 173\nextracting molecule # = 174\nextracting molecule # = 175\nextracting molecule # = 176\nedge molecule detected, replacing molecule but not extracting\nextracting molecule # = 177\nextracting molecule # = 178\nextracting molecule # = 179\nextracting molecule # = 180\nextracting molecule # = 181\nextracting molecule # = 182\n"
     ]
    },
    {
     "name": "stdout",
     "output_type": "stream",
     "text": [
      "extracting molecule # = 183\nextracting molecule # = 184\nextracting molecule # = 185\nextracting molecule # = 186\nextracting molecule # = 187\nextracting molecule # = 188\nextracting molecule # = 189\nextracting molecule # = 190\nextracting molecule # = 191\nextracting molecule # = 192\nextracting molecule # = 193\nextracting molecule # = 194\nextracting molecule # = 195\nextracting molecule # = 196\nextracting molecule # = 197\nextracting molecule # = 198\nextracting molecule # = 199\nextracting molecule # = 200\nextracting molecule # = 201\nextracting molecule # = 202\nextracting molecule # = 203\nextracting molecule # = 204\nextracting molecule # = 205\nextracting molecule # = 206\nextracting molecule # = 207\nextracting molecule # = 208\nextracting molecule # = 209\nextracting molecule # = 210\nextracting molecule # = 211\nextracting molecule # = 212\nextracting molecule # = 213\nextracting molecule # = 214\nextracting molecule # = 215\nextracting molecule # = 216\nextracting molecule # = 217\nextracting molecule # = 218\n"
     ]
    },
    {
     "name": "stdout",
     "output_type": "stream",
     "text": [
      "extracting molecule # = 219\nextracting molecule # = 220\nextracting molecule # = 221\nextracting molecule # = 222\nextracting molecule # = 223\nextracting molecule # = 224\nextracting molecule # = 225\nextracting molecule # = 226\nextracting molecule # = 227\nedge molecule detected, replacing molecule but not extracting\nextracting molecule # = 228\nextracting molecule # = 229\nextracting molecule # = 230\nextracting molecule # = 231\nextracting molecule # = 232\nextracting molecule # = 233\nextracting molecule # = 234\nextracting molecule # = 235\nextracting molecule # = 236\nextracting molecule # = 237\n=====================================\n========== z=15 stack ==============\nextracting molecule # = 1\nextracting molecule # = 2\nextracting molecule # = 3\nextracting molecule # = 4\nextracting molecule # = 5\nextracting molecule # = 6\nextracting molecule # = 7\nextracting molecule # = 8\nextracting molecule # = 9\nextracting molecule # = 10\n"
     ]
    },
    {
     "name": "stdout",
     "output_type": "stream",
     "text": [
      "extracting molecule # = 11\nextracting molecule # = 12\nextracting molecule # = 13\nextracting molecule # = 14\nextracting molecule # = 15\nextracting molecule # = 16\nextracting molecule # = 17\nextracting molecule # = 18\nextracting molecule # = 19\nextracting molecule # = 20\nextracting molecule # = 21\nextracting molecule # = 22\nextracting molecule # = 23\nextracting molecule # = 24\nextracting molecule # = 25\nextracting molecule # = 26\nextracting molecule # = 27\nextracting molecule # = 28\nextracting molecule # = 29\nextracting molecule # = 30\nextracting molecule # = 31\nextracting molecule # = 32\nextracting molecule # = 33\nextracting molecule # = 34\nextracting molecule # = 35\nextracting molecule # = 36\nextracting molecule # = 37\nextracting molecule # = 38\nextracting molecule # = 39\nextracting molecule # = 40\nextracting molecule # = 41\nextracting molecule # = 42\nextracting molecule # = 43\nextracting molecule # = 44\nextracting molecule # = 45\n"
     ]
    },
    {
     "name": "stdout",
     "output_type": "stream",
     "text": [
      "extracting molecule # = 46\nextracting molecule # = 47\nextracting molecule # = 48\nextracting molecule # = 49\nextracting molecule # = 50\nextracting molecule # = 51\nextracting molecule # = 52\nextracting molecule # = 53\nextracting molecule # = 54\nextracting molecule # = 55\nextracting molecule # = 56\nextracting molecule # = 57\nextracting molecule # = 58\nextracting molecule # = 59\nextracting molecule # = 60\nextracting molecule # = 61\nextracting molecule # = 62\nextracting molecule # = 63\nextracting molecule # = 64\nextracting molecule # = 65\nextracting molecule # = 66\nextracting molecule # = 67\nextracting molecule # = 68\nextracting molecule # = 69\nextracting molecule # = 70\nextracting molecule # = 71\nextracting molecule # = 72\nextracting molecule # = 73\nextracting molecule # = 74\nextracting molecule # = 75\nextracting molecule # = 76\nextracting molecule # = 77\nextracting molecule # = 78\nextracting molecule # = 79\nextracting molecule # = 80\n"
     ]
    },
    {
     "name": "stdout",
     "output_type": "stream",
     "text": [
      "extracting molecule # = 81\nextracting molecule # = 82\nextracting molecule # = 83\nextracting molecule # = 84\nextracting molecule # = 85\nextracting molecule # = 86\nextracting molecule # = 87\nextracting molecule # = 88\nextracting molecule # = 89\nextracting molecule # = 90\nextracting molecule # = 91\nextracting molecule # = 92\nextracting molecule # = 93\nextracting molecule # = 94\nextracting molecule # = 95\nextracting molecule # = 96\nextracting molecule # = 97\nextracting molecule # = 98\nextracting molecule # = 99\nextracting molecule # = 100\nextracting molecule # = 101\nedge molecule detected, replacing molecule but not extracting\nextracting molecule # = 102\nextracting molecule # = 103\nextracting molecule # = 104\nextracting molecule # = 105\nextracting molecule # = 106\nextracting molecule # = 107\nextracting molecule # = 108\nextracting molecule # = 109\nextracting molecule # = 110\nextracting molecule # = 111\nextracting molecule # = 112\nextracting molecule # = 113\nextracting molecule # = 114\nextracting molecule # = 115\nextracting molecule # = 116\nextracting molecule # = 117\n"
     ]
    },
    {
     "name": "stdout",
     "output_type": "stream",
     "text": [
      "extracting molecule # = 118\nextracting molecule # = 119\nedge molecule detected, replacing molecule but not extracting\nextracting molecule # = 120\nextracting molecule # = 121\nextracting molecule # = 122\nextracting molecule # = 123\nextracting molecule # = 124\nextracting molecule # = 125\nextracting molecule # = 126\nextracting molecule # = 127\nextracting molecule # = 128\nextracting molecule # = 129\nextracting molecule # = 130\nextracting molecule # = 131\nextracting molecule # = 132\nextracting molecule # = 133\nextracting molecule # = 134\nextracting molecule # = 135\nextracting molecule # = 136\nextracting molecule # = 137\nextracting molecule # = 138\nextracting molecule # = 139\nextracting molecule # = 140\nextracting molecule # = 141\nextracting molecule # = 142\nextracting molecule # = 143\nextracting molecule # = 144\nextracting molecule # = 145\nextracting molecule # = 146\nextracting molecule # = 147\nedge molecule detected, replacing molecule but not extracting\nextracting molecule # = 148\nextracting molecule # = 149\nextracting molecule # = 150\nextracting molecule # = 151\nextracting molecule # = 152\n"
     ]
    },
    {
     "name": "stdout",
     "output_type": "stream",
     "text": [
      "extracting molecule # = 153\nextracting molecule # = 154\nextracting molecule # = 155\nextracting molecule # = 156\nextracting molecule # = 157\nextracting molecule # = 158\nextracting molecule # = 159\nextracting molecule # = 160\nextracting molecule # = 161\nextracting molecule # = 162\nextracting molecule # = 163\nextracting molecule # = 164\nextracting molecule # = 165\nextracting molecule # = 166\nextracting molecule # = 167\nextracting molecule # = 168\nextracting molecule # = 169\nextracting molecule # = 170\nedge molecule detected, replacing molecule but not extracting\nextracting molecule # = 171\nextracting molecule # = 172\nextracting molecule # = 173\nextracting molecule # = 174\nextracting molecule # = 175\nextracting molecule # = 176\nextracting molecule # = 177\nextracting molecule # = 178\nextracting molecule # = 179\nextracting molecule # = 180\nextracting molecule # = 181\nextracting molecule # = 182\nextracting molecule # = 183\nextracting molecule # = 184\nextracting molecule # = 185\nextracting molecule # = 186\nextracting molecule # = 187\n"
     ]
    },
    {
     "name": "stdout",
     "output_type": "stream",
     "text": [
      "extracting molecule # = 188\nextracting molecule # = 189\nextracting molecule # = 190\nextracting molecule # = 191\nextracting molecule # = 192\nextracting molecule # = 193\nextracting molecule # = 194\nextracting molecule # = 195\nextracting molecule # = 196\nextracting molecule # = 197\nextracting molecule # = 198\nextracting molecule # = 199\nextracting molecule # = 200\nextracting molecule # = 201\nextracting molecule # = 202\nextracting molecule # = 203\nextracting molecule # = 204\nextracting molecule # = 205\nextracting molecule # = 206\nextracting molecule # = 207\nextracting molecule # = 208\nextracting molecule # = 209\nextracting molecule # = 210\nextracting molecule # = 211\nextracting molecule # = 212\nextracting molecule # = 213\nextracting molecule # = 214\nextracting molecule # = 215\nextracting molecule # = 216\nextracting molecule # = 217\nextracting molecule # = 218\nextracting molecule # = 219\nextracting molecule # = 220\nextracting molecule # = 221\nextracting molecule # = 222\n"
     ]
    },
    {
     "name": "stdout",
     "output_type": "stream",
     "text": [
      "extracting molecule # = 223\nextracting molecule # = 224\nextracting molecule # = 225\nextracting molecule # = 226\nextracting molecule # = 227\nextracting molecule # = 228\nextracting molecule # = 229\nextracting molecule # = 230\nextracting molecule # = 231\nextracting molecule # = 232\nextracting molecule # = 233\nextracting molecule # = 234\nextracting molecule # = 235\nedge molecule detected, replacing molecule but not extracting\nextracting molecule # = 236\nextracting molecule # = 237\nextracting molecule # = 238\nextracting molecule # = 239\nextracting molecule # = 240\nextracting molecule # = 241\n=====================================\n========== z=16 stack ==============\nextracting molecule # = 1\nextracting molecule # = 2\nextracting molecule # = 3\nextracting molecule # = 4\nextracting molecule # = 5\nextracting molecule # = 6\nextracting molecule # = 7\nextracting molecule # = 8\n"
     ]
    },
    {
     "name": "stdout",
     "output_type": "stream",
     "text": [
      "extracting molecule # = 9\nextracting molecule # = 10\nextracting molecule # = 11\nextracting molecule # = 12\nextracting molecule # = 13\nextracting molecule # = 14\nextracting molecule # = 15\nextracting molecule # = 16\nextracting molecule # = 17\nextracting molecule # = 18\nextracting molecule # = 19\nextracting molecule # = 20\nextracting molecule # = 21\nextracting molecule # = 22\nextracting molecule # = 23\nextracting molecule # = 24\nextracting molecule # = 25\nextracting molecule # = 26\nextracting molecule # = 27\nextracting molecule # = 28\nextracting molecule # = 29\nextracting molecule # = 30\nextracting molecule # = 31\nextracting molecule # = 32\nextracting molecule # = 33\nextracting molecule # = 34\nextracting molecule # = 35\nextracting molecule # = 36\nextracting molecule # = 37\nextracting molecule # = 38\nextracting molecule # = 39\nextracting molecule # = 40\nextracting molecule # = 41\nextracting molecule # = 42\nextracting molecule # = 43\n"
     ]
    },
    {
     "name": "stdout",
     "output_type": "stream",
     "text": [
      "extracting molecule # = 44\nextracting molecule # = 45\nextracting molecule # = 46\nextracting molecule # = 47\nextracting molecule # = 48\nextracting molecule # = 49\nextracting molecule # = 50\nextracting molecule # = 51\nextracting molecule # = 52\nextracting molecule # = 53\nextracting molecule # = 54\nextracting molecule # = 55\nextracting molecule # = 56\nextracting molecule # = 57\nextracting molecule # = 58\nextracting molecule # = 59\nextracting molecule # = 60\nextracting molecule # = 61\nedge molecule detected, replacing molecule but not extracting\nextracting molecule # = 62\nextracting molecule # = 63\nedge molecule detected, replacing molecule but not extracting\nextracting molecule # = 64\nextracting molecule # = 65\nextracting molecule # = 66\nextracting molecule # = 67\nextracting molecule # = 68\nextracting molecule # = 69\nextracting molecule # = 70\nextracting molecule # = 71\nextracting molecule # = 72\nextracting molecule # = 73\nedge molecule detected, replacing molecule but not extracting\nextracting molecule # = 74\nextracting molecule # = 75\nextracting molecule # = 76\nextracting molecule # = 77\nextracting molecule # = 78\nextracting molecule # = 79\n"
     ]
    },
    {
     "name": "stdout",
     "output_type": "stream",
     "text": [
      "extracting molecule # = 80\nextracting molecule # = 81\nextracting molecule # = 82\nextracting molecule # = 83\nextracting molecule # = 84\nextracting molecule # = 85\nextracting molecule # = 86\nextracting molecule # = 87\nextracting molecule # = 88\nextracting molecule # = 89\nextracting molecule # = 90\nextracting molecule # = 91\nextracting molecule # = 92\nextracting molecule # = 93\nextracting molecule # = 94\nextracting molecule # = 95\nextracting molecule # = 96\nextracting molecule # = 97\nextracting molecule # = 98\nextracting molecule # = 99\nextracting molecule # = 100\nextracting molecule # = 101\nextracting molecule # = 102\nextracting molecule # = 103\nextracting molecule # = 104\nextracting molecule # = 105\nextracting molecule # = 106\nextracting molecule # = 107\nextracting molecule # = 108\nextracting molecule # = 109\nextracting molecule # = 110\nextracting molecule # = 111\nextracting molecule # = 112\nextracting molecule # = 113\n"
     ]
    },
    {
     "name": "stdout",
     "output_type": "stream",
     "text": [
      "extracting molecule # = 114\nextracting molecule # = 115\nextracting molecule # = 116\nextracting molecule # = 117\nextracting molecule # = 118\nextracting molecule # = 119\nextracting molecule # = 120\nextracting molecule # = 121\nextracting molecule # = 122\nextracting molecule # = 123\nextracting molecule # = 124\nextracting molecule # = 125\nextracting molecule # = 126\nextracting molecule # = 127\nextracting molecule # = 128\nextracting molecule # = 129\nextracting molecule # = 130\nextracting molecule # = 131\nextracting molecule # = 132\nextracting molecule # = 133\nextracting molecule # = 134\nextracting molecule # = 135\nextracting molecule # = 136\nextracting molecule # = 137\nextracting molecule # = 138\nextracting molecule # = 139\nextracting molecule # = 140\nextracting molecule # = 141\nextracting molecule # = 142\nextracting molecule # = 143\nextracting molecule # = 144\nextracting molecule # = 145\nextracting molecule # = 146\nextracting molecule # = 147\n"
     ]
    },
    {
     "name": "stdout",
     "output_type": "stream",
     "text": [
      "extracting molecule # = 148\nextracting molecule # = 149\nextracting molecule # = 150\nextracting molecule # = 151\nextracting molecule # = 152\nextracting molecule # = 153\nextracting molecule # = 154\nextracting molecule # = 155\nextracting molecule # = 156\nextracting molecule # = 157\nextracting molecule # = 158\nextracting molecule # = 159\nextracting molecule # = 160\nextracting molecule # = 161\nextracting molecule # = 162\nextracting molecule # = 163\nextracting molecule # = 164\nextracting molecule # = 165\nextracting molecule # = 166\nextracting molecule # = 167\nextracting molecule # = 168\nextracting molecule # = 169\nextracting molecule # = 170\nextracting molecule # = 171\nextracting molecule # = 172\nextracting molecule # = 173\nextracting molecule # = 174\nextracting molecule # = 175\nextracting molecule # = 176\nextracting molecule # = 177\nextracting molecule # = 178\nextracting molecule # = 179\nextracting molecule # = 180\nextracting molecule # = 181\nextracting molecule # = 182\nextracting molecule # = 183\nextracting molecule # = 184\n"
     ]
    },
    {
     "name": "stdout",
     "output_type": "stream",
     "text": [
      "extracting molecule # = 185\nextracting molecule # = 186\nextracting molecule # = 187\nextracting molecule # = 188\nextracting molecule # = 189\nextracting molecule # = 190\nextracting molecule # = 191\nextracting molecule # = 192\nextracting molecule # = 193\nextracting molecule # = 194\nextracting molecule # = 195\nextracting molecule # = 196\nextracting molecule # = 197\nextracting molecule # = 198\nextracting molecule # = 199\nextracting molecule # = 200\nextracting molecule # = 201\nextracting molecule # = 202\nextracting molecule # = 203\nextracting molecule # = 204\nextracting molecule # = 205\nextracting molecule # = 206\nextracting molecule # = 207\nextracting molecule # = 208\nextracting molecule # = 209\nextracting molecule # = 210\nextracting molecule # = 211\nextracting molecule # = 212\nextracting molecule # = 213\nextracting molecule # = 214\nextracting molecule # = 215\nextracting molecule # = 216\nextracting molecule # = 217\nextracting molecule # = 218\nextracting molecule # = 219\nextracting molecule # = 220\n"
     ]
    },
    {
     "name": "stdout",
     "output_type": "stream",
     "text": [
      "extracting molecule # = 221\nextracting molecule # = 222\nextracting molecule # = 223\nextracting molecule # = 224\nextracting molecule # = 225\nextracting molecule # = 226\nextracting molecule # = 227\nextracting molecule # = 228\nextracting molecule # = 229\nextracting molecule # = 230\nextracting molecule # = 231\nextracting molecule # = 232\nextracting molecule # = 233\nextracting molecule # = 234\nextracting molecule # = 235\nextracting molecule # = 236\nextracting molecule # = 237\nextracting molecule # = 238\nedge molecule detected, replacing molecule but not extracting\nextracting molecule # = 239\nextracting molecule # = 240\nextracting molecule # = 241\nextracting molecule # = 242\nextracting molecule # = 243\n=====================================\n========== z=17 stack ==============\nextracting molecule # = 1\nextracting molecule # = 2\nextracting molecule # = 3\nextracting molecule # = 4\nextracting molecule # = 5\nextracting molecule # = 6\n"
     ]
    },
    {
     "name": "stdout",
     "output_type": "stream",
     "text": [
      "extracting molecule # = 7\nextracting molecule # = 8\nextracting molecule # = 9\nextracting molecule # = 10\nextracting molecule # = 11\nextracting molecule # = 12\nextracting molecule # = 13\nextracting molecule # = 14\nextracting molecule # = 15\nextracting molecule # = 16\nextracting molecule # = 17\nextracting molecule # = 18\nextracting molecule # = 19\nextracting molecule # = 20\nextracting molecule # = 21\nedge molecule detected, replacing molecule but not extracting\nextracting molecule # = 22\nextracting molecule # = 23\nextracting molecule # = 24\nextracting molecule # = 25\nextracting molecule # = 26\nextracting molecule # = 27\nextracting molecule # = 28\nextracting molecule # = 29\nextracting molecule # = 30\nextracting molecule # = 31\nextracting molecule # = 32\nextracting molecule # = 33\nextracting molecule # = 34\nextracting molecule # = 35\nextracting molecule # = 36\n"
     ]
    },
    {
     "name": "stdout",
     "output_type": "stream",
     "text": [
      "extracting molecule # = 37\nextracting molecule # = 38\nextracting molecule # = 39\nextracting molecule # = 40\nedge molecule detected, replacing molecule but not extracting\nextracting molecule # = 41\nextracting molecule # = 42\nextracting molecule # = 43\nextracting molecule # = 44\nextracting molecule # = 45\nextracting molecule # = 46\nextracting molecule # = 47\nextracting molecule # = 48\nextracting molecule # = 49\nedge molecule detected, replacing molecule but not extracting\nextracting molecule # = 50\nextracting molecule # = 51\nextracting molecule # = 52\nextracting molecule # = 53\nextracting molecule # = 54\nextracting molecule # = 55\nextracting molecule # = 56\nextracting molecule # = 57\nextracting molecule # = 58\nextracting molecule # = 59\nextracting molecule # = 60\nextracting molecule # = 61\nextracting molecule # = 62\nextracting molecule # = 63\nedge molecule detected, replacing molecule but not extracting\nextracting molecule # = 64\nextracting molecule # = 65\nextracting molecule # = 66\nextracting molecule # = 67\nextracting molecule # = 68\nextracting molecule # = 69\nextracting molecule # = 70\nextracting molecule # = 71\n"
     ]
    },
    {
     "name": "stdout",
     "output_type": "stream",
     "text": [
      "extracting molecule # = 72\nextracting molecule # = 73\nextracting molecule # = 74\nextracting molecule # = 75\nextracting molecule # = 76\nextracting molecule # = 77\nextracting molecule # = 78\nextracting molecule # = 79\nextracting molecule # = 80\nextracting molecule # = 81\nextracting molecule # = 82\nextracting molecule # = 83\nextracting molecule # = 84\nextracting molecule # = 85\nextracting molecule # = 86\nextracting molecule # = 87\nextracting molecule # = 88\nextracting molecule # = 89\nextracting molecule # = 90\nextracting molecule # = 91\nextracting molecule # = 92\nextracting molecule # = 93\nextracting molecule # = 94\nextracting molecule # = 95\nextracting molecule # = 96\nextracting molecule # = 97\nextracting molecule # = 98\nextracting molecule # = 99\nextracting molecule # = 100\nextracting molecule # = 101\nextracting molecule # = 102\nextracting molecule # = 103\nextracting molecule # = 104\nextracting molecule # = 105\nextracting molecule # = 106\n"
     ]
    },
    {
     "name": "stdout",
     "output_type": "stream",
     "text": [
      "extracting molecule # = 107\nextracting molecule # = 108\nextracting molecule # = 109\nextracting molecule # = 110\nextracting molecule # = 111\nextracting molecule # = 112\nextracting molecule # = 113\nextracting molecule # = 114\nextracting molecule # = 115\nextracting molecule # = 116\nextracting molecule # = 117\nextracting molecule # = 118\nextracting molecule # = 119\nextracting molecule # = 120\nextracting molecule # = 121\nextracting molecule # = 122\nextracting molecule # = 123\nextracting molecule # = 124\nextracting molecule # = 125\nextracting molecule # = 126\nextracting molecule # = 127\nextracting molecule # = 128\nextracting molecule # = 129\nextracting molecule # = 130\nextracting molecule # = 131\nextracting molecule # = 132\nextracting molecule # = 133\nextracting molecule # = 134\nextracting molecule # = 135\nextracting molecule # = 136\nextracting molecule # = 137\nextracting molecule # = 138\nextracting molecule # = 139\nextracting molecule # = 140\n"
     ]
    },
    {
     "name": "stdout",
     "output_type": "stream",
     "text": [
      "extracting molecule # = 141\nextracting molecule # = 142\nextracting molecule # = 143\nextracting molecule # = 144\nextracting molecule # = 145\nextracting molecule # = 146\nextracting molecule # = 147\nextracting molecule # = 148\nextracting molecule # = 149\nextracting molecule # = 150\nextracting molecule # = 151\nextracting molecule # = 152\nextracting molecule # = 153\nextracting molecule # = 154\nextracting molecule # = 155\nextracting molecule # = 156\nextracting molecule # = 157\nextracting molecule # = 158\nextracting molecule # = 159\nextracting molecule # = 160\nextracting molecule # = 161\nextracting molecule # = 162\nextracting molecule # = 163\nextracting molecule # = 164\nextracting molecule # = 165\nextracting molecule # = 166\nextracting molecule # = 167\nextracting molecule # = 168\nextracting molecule # = 169\nextracting molecule # = 170\nextracting molecule # = 171\nextracting molecule # = 172\nextracting molecule # = 173\nextracting molecule # = 174\n"
     ]
    },
    {
     "name": "stdout",
     "output_type": "stream",
     "text": [
      "extracting molecule # = 175\nextracting molecule # = 176\nextracting molecule # = 177\nextracting molecule # = 178\nextracting molecule # = 179\nextracting molecule # = 180\nextracting molecule # = 181\nextracting molecule # = 182\nextracting molecule # = 183\nextracting molecule # = 184\nextracting molecule # = 185\nextracting molecule # = 186\nextracting molecule # = 187\nextracting molecule # = 188\nextracting molecule # = 189\nextracting molecule # = 190\nextracting molecule # = 191\nextracting molecule # = 192\nextracting molecule # = 193\nextracting molecule # = 194\nextracting molecule # = 195\nextracting molecule # = 196\nextracting molecule # = 197\nextracting molecule # = 198\nextracting molecule # = 199\nextracting molecule # = 200\nextracting molecule # = 201\nextracting molecule # = 202\nextracting molecule # = 203\nextracting molecule # = 204\nextracting molecule # = 205\nextracting molecule # = 206\nextracting molecule # = 207\nextracting molecule # = 208\nextracting molecule # = 209\n"
     ]
    },
    {
     "name": "stdout",
     "output_type": "stream",
     "text": [
      "extracting molecule # = 210\nextracting molecule # = 211\nextracting molecule # = 212\nextracting molecule # = 213\nextracting molecule # = 214\nextracting molecule # = 215\nedge molecule detected, replacing molecule but not extracting\nextracting molecule # = 216\nextracting molecule # = 217\nextracting molecule # = 218\nextracting molecule # = 219\nextracting molecule # = 220\nextracting molecule # = 221\nextracting molecule # = 222\nextracting molecule # = 223\nextracting molecule # = 224\nextracting molecule # = 225\nextracting molecule # = 226\nextracting molecule # = 227\nextracting molecule # = 228\nextracting molecule # = 229\nedge molecule detected, replacing molecule but not extracting\nextracting molecule # = 230\nextracting molecule # = 231\nextracting molecule # = 232\nextracting molecule # = 233\n=====================================\n========== z=18 stack ==============\nextracting molecule # = 1\nextracting molecule # = 2\nextracting molecule # = 3\nextracting molecule # = 4\nextracting molecule # = 5\nextracting molecule # = 6\n"
     ]
    },
    {
     "name": "stdout",
     "output_type": "stream",
     "text": [
      "extracting molecule # = 7\nextracting molecule # = 8\nextracting molecule # = 9\nextracting molecule # = 10\nextracting molecule # = 11\nextracting molecule # = 12\nextracting molecule # = 13\nextracting molecule # = 14\nextracting molecule # = 15\nextracting molecule # = 16\nextracting molecule # = 17\nedge molecule detected, replacing molecule but not extracting\nextracting molecule # = 18\nextracting molecule # = 19\nextracting molecule # = 20\nextracting molecule # = 21\nextracting molecule # = 22\nextracting molecule # = 23\nextracting molecule # = 24\nextracting molecule # = 25\nextracting molecule # = 26\nedge molecule detected, replacing molecule but not extracting\nextracting molecule # = 27\nextracting molecule # = 28\nextracting molecule # = 29\nextracting molecule # = 30\nextracting molecule # = 31\nextracting molecule # = 32\nextracting molecule # = 33\nextracting molecule # = 34\nextracting molecule # = 35\nextracting molecule # = 36\nextracting molecule # = 37\nextracting molecule # = 38\nextracting molecule # = 39\nextracting molecule # = 40\nextracting molecule # = 41\n"
     ]
    },
    {
     "name": "stdout",
     "output_type": "stream",
     "text": [
      "extracting molecule # = 42\nextracting molecule # = 43\nextracting molecule # = 44\nextracting molecule # = 45\nextracting molecule # = 46\nextracting molecule # = 47\nextracting molecule # = 48\nedge molecule detected, replacing molecule but not extracting\nextracting molecule # = 49\nextracting molecule # = 50\nextracting molecule # = 51\nextracting molecule # = 52\nextracting molecule # = 53\nextracting molecule # = 54\nextracting molecule # = 55\nextracting molecule # = 56\nextracting molecule # = 57\nextracting molecule # = 58\nextracting molecule # = 59\nextracting molecule # = 60\nextracting molecule # = 61\nextracting molecule # = 62\nextracting molecule # = 63\nextracting molecule # = 64\nextracting molecule # = 65\nextracting molecule # = 66\nextracting molecule # = 67\nextracting molecule # = 68\nextracting molecule # = 69\nextracting molecule # = 70\nextracting molecule # = 71\nextracting molecule # = 72\nextracting molecule # = 73\nedge molecule detected, replacing molecule but not extracting\nextracting molecule # = 74\nextracting molecule # = 75\nextracting molecule # = 76\nextracting molecule # = 77\n"
     ]
    },
    {
     "name": "stdout",
     "output_type": "stream",
     "text": [
      "extracting molecule # = 78\nextracting molecule # = 79\nextracting molecule # = 80\nextracting molecule # = 81\nextracting molecule # = 82\nextracting molecule # = 83\nextracting molecule # = 84\nextracting molecule # = 85\nextracting molecule # = 86\nextracting molecule # = 87\nextracting molecule # = 88\nextracting molecule # = 89\nextracting molecule # = 90\nextracting molecule # = 91\nextracting molecule # = 92\nextracting molecule # = 93\nextracting molecule # = 94\nextracting molecule # = 95\nextracting molecule # = 96\nextracting molecule # = 97\nextracting molecule # = 98\nextracting molecule # = 99\nextracting molecule # = 100\nextracting molecule # = 101\nextracting molecule # = 102\nextracting molecule # = 103\nextracting molecule # = 104\nextracting molecule # = 105\nextracting molecule # = 106\nextracting molecule # = 107\nextracting molecule # = 108\nextracting molecule # = 109\nextracting molecule # = 110\nextracting molecule # = 111\nextracting molecule # = 112\n"
     ]
    },
    {
     "name": "stdout",
     "output_type": "stream",
     "text": [
      "extracting molecule # = 113\nextracting molecule # = 114\nextracting molecule # = 115\nextracting molecule # = 116\nextracting molecule # = 117\nextracting molecule # = 118\nextracting molecule # = 119\nextracting molecule # = 120\nextracting molecule # = 121\nextracting molecule # = 122\nextracting molecule # = 123\nextracting molecule # = 124\nextracting molecule # = 125\nextracting molecule # = 126\nextracting molecule # = 127\nextracting molecule # = 128\nextracting molecule # = 129\nextracting molecule # = 130\nextracting molecule # = 131\nextracting molecule # = 132\nextracting molecule # = 133\nextracting molecule # = 134\nextracting molecule # = 135\nextracting molecule # = 136\nextracting molecule # = 137\nextracting molecule # = 138\nextracting molecule # = 139\nextracting molecule # = 140\nextracting molecule # = 141\nextracting molecule # = 142\nextracting molecule # = 143\nextracting molecule # = 144\nextracting molecule # = 145\nextracting molecule # = 146\nextracting molecule # = 147\nextracting molecule # = 148\n"
     ]
    },
    {
     "name": "stdout",
     "output_type": "stream",
     "text": [
      "extracting molecule # = 149\nextracting molecule # = 150\nextracting molecule # = 151\nextracting molecule # = 152\nextracting molecule # = 153\nextracting molecule # = 154\nextracting molecule # = 155\nextracting molecule # = 156\nextracting molecule # = 157\nextracting molecule # = 158\nextracting molecule # = 159\nextracting molecule # = 160\nextracting molecule # = 161\nextracting molecule # = 162\nextracting molecule # = 163\nextracting molecule # = 164\nextracting molecule # = 165\nextracting molecule # = 166\nextracting molecule # = 167\nextracting molecule # = 168\nextracting molecule # = 169\nextracting molecule # = 170\nextracting molecule # = 171\nextracting molecule # = 172\nextracting molecule # = 173\nextracting molecule # = 174\nextracting molecule # = 175\nextracting molecule # = 176\nextracting molecule # = 177\nextracting molecule # = 178\nextracting molecule # = 179\nextracting molecule # = 180\nextracting molecule # = 181\nextracting molecule # = 182\nextracting molecule # = 183\nextracting molecule # = 184\n"
     ]
    },
    {
     "name": "stdout",
     "output_type": "stream",
     "text": [
      "extracting molecule # = 185\nextracting molecule # = 186\nextracting molecule # = 187\nextracting molecule # = 188\nextracting molecule # = 189\nextracting molecule # = 190\nextracting molecule # = 191\nextracting molecule # = 192\nextracting molecule # = 193\nextracting molecule # = 194\nextracting molecule # = 195\nextracting molecule # = 196\nextracting molecule # = 197\nextracting molecule # = 198\nextracting molecule # = 199\nextracting molecule # = 200\nextracting molecule # = 201\nextracting molecule # = 202\nextracting molecule # = 203\nextracting molecule # = 204\nextracting molecule # = 205\nextracting molecule # = 206\nextracting molecule # = 207\nextracting molecule # = 208\nextracting molecule # = 209\nextracting molecule # = 210\nedge molecule detected, replacing molecule but not extracting\nextracting molecule # = 211\nextracting molecule # = 212\nextracting molecule # = 213\nextracting molecule # = 214\nextracting molecule # = 215\nextracting molecule # = 216\nextracting molecule # = 217\nextracting molecule # = 218\nextracting molecule # = 219\nextracting molecule # = 220\n"
     ]
    },
    {
     "name": "stdout",
     "output_type": "stream",
     "text": [
      "extracting molecule # = 221\nextracting molecule # = 222\nextracting molecule # = 223\nextracting molecule # = 224\nextracting molecule # = 225\nextracting molecule # = 226\nextracting molecule # = 227\nextracting molecule # = 228\nextracting molecule # = 229\nextracting molecule # = 230\nextracting molecule # = 231\nextracting molecule # = 232\n=====================================\n========== z=19 stack ==============\nextracting molecule # = 1\nextracting molecule # = 2\nextracting molecule # = 3\nextracting molecule # = 4\nextracting molecule # = 5\nextracting molecule # = 6\nextracting molecule # = 7\nextracting molecule # = 8\nextracting molecule # = 9\nextracting molecule # = 10\nextracting molecule # = 11\nextracting molecule # = 12\nextracting molecule # = 13\nextracting molecule # = 14\nextracting molecule # = 15\nextracting molecule # = 16\nextracting molecule # = 17\nextracting molecule # = 18\n"
     ]
    },
    {
     "name": "stdout",
     "output_type": "stream",
     "text": [
      "extracting molecule # = 19\nextracting molecule # = 20\nextracting molecule # = 21\nextracting molecule # = 22\nextracting molecule # = 23\nextracting molecule # = 24\nextracting molecule # = 25\nextracting molecule # = 26\nextracting molecule # = 27\nextracting molecule # = 28\nextracting molecule # = 29\nextracting molecule # = 30\nextracting molecule # = 31\nextracting molecule # = 32\nedge molecule detected, replacing molecule but not extracting\nextracting molecule # = 33\nextracting molecule # = 34\nextracting molecule # = 35\nextracting molecule # = 36\nextracting molecule # = 37\nextracting molecule # = 38\nextracting molecule # = 39\nextracting molecule # = 40\nextracting molecule # = 41\nextracting molecule # = 42\nextracting molecule # = 43\nextracting molecule # = 44\nextracting molecule # = 45\nextracting molecule # = 46\nextracting molecule # = 47\nextracting molecule # = 48\nextracting molecule # = 49\nextracting molecule # = 50\nextracting molecule # = 51\nextracting molecule # = 52\nextracting molecule # = 53\n"
     ]
    },
    {
     "name": "stdout",
     "output_type": "stream",
     "text": [
      "extracting molecule # = 54\nextracting molecule # = 55\nextracting molecule # = 56\nextracting molecule # = 57\nextracting molecule # = 58\nextracting molecule # = 59\nextracting molecule # = 60\nextracting molecule # = 61\nextracting molecule # = 62\nextracting molecule # = 63\nextracting molecule # = 64\nextracting molecule # = 65\nextracting molecule # = 66\nextracting molecule # = 67\nextracting molecule # = 68\nextracting molecule # = 69\nextracting molecule # = 70\nextracting molecule # = 71\nextracting molecule # = 72\nextracting molecule # = 73\nextracting molecule # = 74\nextracting molecule # = 75\nedge molecule detected, replacing molecule but not extracting\nextracting molecule # = 76\nextracting molecule # = 77\nextracting molecule # = 78\nextracting molecule # = 79\nextracting molecule # = 80\nextracting molecule # = 81\nextracting molecule # = 82\nextracting molecule # = 83\nextracting molecule # = 84\nextracting molecule # = 85\nextracting molecule # = 86\nextracting molecule # = 87\nextracting molecule # = 88\n"
     ]
    },
    {
     "name": "stdout",
     "output_type": "stream",
     "text": [
      "extracting molecule # = 89\nextracting molecule # = 90\nextracting molecule # = 91\nextracting molecule # = 92\nextracting molecule # = 93\nextracting molecule # = 94\nextracting molecule # = 95\nextracting molecule # = 96\nextracting molecule # = 97\nextracting molecule # = 98\nextracting molecule # = 99\nextracting molecule # = 100\nextracting molecule # = 101\nextracting molecule # = 102\nextracting molecule # = 103\nextracting molecule # = 104\nextracting molecule # = 105\nextracting molecule # = 106\nextracting molecule # = 107\nextracting molecule # = 108\nextracting molecule # = 109\nedge molecule detected, replacing molecule but not extracting\nextracting molecule # = 110\nextracting molecule # = 111\nextracting molecule # = 112\nextracting molecule # = 113\nextracting molecule # = 114\nextracting molecule # = 115\nextracting molecule # = 116\nextracting molecule # = 117\nextracting molecule # = 118\nextracting molecule # = 119\nextracting molecule # = 120\nextracting molecule # = 121\nextracting molecule # = 122\nextracting molecule # = 123\n"
     ]
    },
    {
     "name": "stdout",
     "output_type": "stream",
     "text": [
      "extracting molecule # = 124\nextracting molecule # = 125\nextracting molecule # = 126\nextracting molecule # = 127\nextracting molecule # = 128\nextracting molecule # = 129\nextracting molecule # = 130\nextracting molecule # = 131\nextracting molecule # = 132\nextracting molecule # = 133\nextracting molecule # = 134\nextracting molecule # = 135\nextracting molecule # = 136\nextracting molecule # = 137\nextracting molecule # = 138\nextracting molecule # = 139\nextracting molecule # = 140\nextracting molecule # = 141\nedge molecule detected, replacing molecule but not extracting\nextracting molecule # = 142\nextracting molecule # = 143\nextracting molecule # = 144\nextracting molecule # = 145\nextracting molecule # = 146\nextracting molecule # = 147\nextracting molecule # = 148\nextracting molecule # = 149\nextracting molecule # = 150\nextracting molecule # = 151\nextracting molecule # = 152\nextracting molecule # = 153\nextracting molecule # = 154\nextracting molecule # = 155\nextracting molecule # = 156\nextracting molecule # = 157\n"
     ]
    },
    {
     "name": "stdout",
     "output_type": "stream",
     "text": [
      "extracting molecule # = 158\nextracting molecule # = 159\nextracting molecule # = 160\nextracting molecule # = 161\nextracting molecule # = 162\nextracting molecule # = 163\nextracting molecule # = 164\nextracting molecule # = 165\nextracting molecule # = 166\nextracting molecule # = 167\nextracting molecule # = 168\nextracting molecule # = 169\nextracting molecule # = 170\nextracting molecule # = 171\nextracting molecule # = 172\nextracting molecule # = 173\nextracting molecule # = 174\nextracting molecule # = 175\nextracting molecule # = 176\nextracting molecule # = 177\nextracting molecule # = 178\nextracting molecule # = 179\nextracting molecule # = 180\nextracting molecule # = 181\nextracting molecule # = 182\nextracting molecule # = 183\nextracting molecule # = 184\nextracting molecule # = 185\nextracting molecule # = 186\nextracting molecule # = 187\nextracting molecule # = 188\nextracting molecule # = 189\nextracting molecule # = 190\nextracting molecule # = 191\nextracting molecule # = 192\n"
     ]
    },
    {
     "name": "stdout",
     "output_type": "stream",
     "text": [
      "extracting molecule # = 193\nextracting molecule # = 194\nextracting molecule # = 195\nextracting molecule # = 196\nextracting molecule # = 197\nextracting molecule # = 198\nextracting molecule # = 199\nextracting molecule # = 200\nextracting molecule # = 201\nextracting molecule # = 202\nextracting molecule # = 203\nextracting molecule # = 204\nextracting molecule # = 205\nextracting molecule # = 206\nextracting molecule # = 207\nextracting molecule # = 208\nextracting molecule # = 209\nextracting molecule # = 210\nextracting molecule # = 211\nedge molecule detected, replacing molecule but not extracting\nextracting molecule # = 212\nextracting molecule # = 213\nextracting molecule # = 214\nextracting molecule # = 215\nextracting molecule # = 216\nextracting molecule # = 217\nextracting molecule # = 218\nextracting molecule # = 219\nextracting molecule # = 220\nextracting molecule # = 221\nextracting molecule # = 222\nextracting molecule # = 223\nextracting molecule # = 224\nextracting molecule # = 225\nextracting molecule # = 226\nextracting molecule # = 227\n"
     ]
    },
    {
     "name": "stdout",
     "output_type": "stream",
     "text": [
      "extracting molecule # = 228\nextracting molecule # = 229\nextracting molecule # = 230\nextracting molecule # = 231\nextracting molecule # = 232\nextracting molecule # = 233\nextracting molecule # = 234\nextracting molecule # = 235\nextracting molecule # = 236\nextracting molecule # = 237\nextracting molecule # = 238\nextracting molecule # = 239\nextracting molecule # = 240\n=====================================\n========== z=20 stack ==============\nextracting molecule # = 1\nextracting molecule # = 2\nextracting molecule # = 3\nextracting molecule # = 4\nextracting molecule # = 5\nextracting molecule # = 6\nextracting molecule # = 7\nextracting molecule # = 8\nextracting molecule # = 9\nextracting molecule # = 10\nextracting molecule # = 11\nextracting molecule # = 12\nextracting molecule # = 13\nextracting molecule # = 14\nextracting molecule # = 15\nextracting molecule # = 16\n"
     ]
    },
    {
     "name": "stdout",
     "output_type": "stream",
     "text": [
      "extracting molecule # = 17\nextracting molecule # = 18\nextracting molecule # = 19\nextracting molecule # = 20\nextracting molecule # = 21\nextracting molecule # = 22\nextracting molecule # = 23\nextracting molecule # = 24\nextracting molecule # = 25\nextracting molecule # = 26\nextracting molecule # = 27\nextracting molecule # = 28\nextracting molecule # = 29\nextracting molecule # = 30\nextracting molecule # = 31\nextracting molecule # = 32\nextracting molecule # = 33\nextracting molecule # = 34\nextracting molecule # = 35\nextracting molecule # = 36\nextracting molecule # = 37\nextracting molecule # = 38\nextracting molecule # = 39\nextracting molecule # = 40\nextracting molecule # = 41\nextracting molecule # = 42\nextracting molecule # = 43\nextracting molecule # = 44\nextracting molecule # = 45\nextracting molecule # = 46\nextracting molecule # = 47\nextracting molecule # = 48\nextracting molecule # = 49\nextracting molecule # = 50\nextracting molecule # = 51\nextracting molecule # = 52\n"
     ]
    },
    {
     "name": "stdout",
     "output_type": "stream",
     "text": [
      "extracting molecule # = 53\nextracting molecule # = 54\nextracting molecule # = 55\nextracting molecule # = 56\nextracting molecule # = 57\nextracting molecule # = 58\nextracting molecule # = 59\nextracting molecule # = 60\nextracting molecule # = 61\nedge molecule detected, replacing molecule but not extracting\nextracting molecule # = 62\nextracting molecule # = 63\nextracting molecule # = 64\nextracting molecule # = 65\nextracting molecule # = 66\nextracting molecule # = 67\nextracting molecule # = 68\nextracting molecule # = 69\nextracting molecule # = 70\nextracting molecule # = 71\nextracting molecule # = 72\nextracting molecule # = 73\nextracting molecule # = 74\nextracting molecule # = 75\nextracting molecule # = 76\nextracting molecule # = 77\nextracting molecule # = 78\nextracting molecule # = 79\nextracting molecule # = 80\nextracting molecule # = 81\nextracting molecule # = 82\nextracting molecule # = 83\nextracting molecule # = 84\nextracting molecule # = 85\nextracting molecule # = 86\nextracting molecule # = 87\nextracting molecule # = 88\n"
     ]
    },
    {
     "name": "stdout",
     "output_type": "stream",
     "text": [
      "extracting molecule # = 89\nextracting molecule # = 90\nextracting molecule # = 91\nextracting molecule # = 92\nextracting molecule # = 93\nextracting molecule # = 94\nedge molecule detected, replacing molecule but not extracting\nextracting molecule # = 95\nextracting molecule # = 96\nextracting molecule # = 97\nextracting molecule # = 98\nextracting molecule # = 99\nextracting molecule # = 100\nextracting molecule # = 101\nextracting molecule # = 102\nextracting molecule # = 103\nextracting molecule # = 104\nextracting molecule # = 105\nextracting molecule # = 106\nextracting molecule # = 107\nextracting molecule # = 108\nextracting molecule # = 109\nextracting molecule # = 110\nextracting molecule # = 111\nextracting molecule # = 112\nextracting molecule # = 113\nedge molecule detected, replacing molecule but not extracting\nextracting molecule # = 114\nextracting molecule # = 115\nextracting molecule # = 116\nextracting molecule # = 117\nextracting molecule # = 118\nextracting molecule # = 119\nextracting molecule # = 120\nextracting molecule # = 121\nextracting molecule # = 122\nextracting molecule # = 123\nextracting molecule # = 124\n"
     ]
    },
    {
     "name": "stdout",
     "output_type": "stream",
     "text": [
      "extracting molecule # = 125\nedge molecule detected, replacing molecule but not extracting\nextracting molecule # = 126\nedge molecule detected, replacing molecule but not extracting\nextracting molecule # = 127\nextracting molecule # = 128\nextracting molecule # = 129\nextracting molecule # = 130\nextracting molecule # = 131\nextracting molecule # = 132\nextracting molecule # = 133\nextracting molecule # = 134\nextracting molecule # = 135\nextracting molecule # = 136\nextracting molecule # = 137\nextracting molecule # = 138\nextracting molecule # = 139\nextracting molecule # = 140\nextracting molecule # = 141\nextracting molecule # = 142\nextracting molecule # = 143\nextracting molecule # = 144\nextracting molecule # = 145\nextracting molecule # = 146\nextracting molecule # = 147\nextracting molecule # = 148\nextracting molecule # = 149\nextracting molecule # = 150\nextracting molecule # = 151\nextracting molecule # = 152\nextracting molecule # = 153\nextracting molecule # = 154\nextracting molecule # = 155\nextracting molecule # = 156\nextracting molecule # = 157\nextracting molecule # = 158\n"
     ]
    },
    {
     "name": "stdout",
     "output_type": "stream",
     "text": [
      "extracting molecule # = 159\nextracting molecule # = 160\nextracting molecule # = 161\nextracting molecule # = 162\nextracting molecule # = 163\nextracting molecule # = 164\nextracting molecule # = 165\nextracting molecule # = 166\nextracting molecule # = 167\nextracting molecule # = 168\nextracting molecule # = 169\nextracting molecule # = 170\nextracting molecule # = 171\nextracting molecule # = 172\nextracting molecule # = 173\nextracting molecule # = 174\nextracting molecule # = 175\nextracting molecule # = 176\nextracting molecule # = 177\nextracting molecule # = 178\nextracting molecule # = 179\nextracting molecule # = 180\nextracting molecule # = 181\nextracting molecule # = 182\nextracting molecule # = 183\nextracting molecule # = 184\nextracting molecule # = 185\nextracting molecule # = 186\nextracting molecule # = 187\nextracting molecule # = 188\nextracting molecule # = 189\nextracting molecule # = 190\nextracting molecule # = 191\nextracting molecule # = 192\n"
     ]
    },
    {
     "name": "stdout",
     "output_type": "stream",
     "text": [
      "extracting molecule # = 193\nextracting molecule # = 194\nextracting molecule # = 195\nextracting molecule # = 196\nextracting molecule # = 197\nextracting molecule # = 198\nextracting molecule # = 199\nextracting molecule # = 200\nextracting molecule # = 201\nextracting molecule # = 202\nextracting molecule # = 203\nextracting molecule # = 204\nextracting molecule # = 205\nextracting molecule # = 206\nextracting molecule # = 207\nextracting molecule # = 208\n=====================================\n========== z=21 stack ==============\nextracting molecule # = 1\nextracting molecule # = 2\nextracting molecule # = 3\nextracting molecule # = 4\nextracting molecule # = 5\nextracting molecule # = 6\nextracting molecule # = 7\nextracting molecule # = 8\nextracting molecule # = 9\nextracting molecule # = 10\nextracting molecule # = 11\nextracting molecule # = 12\n"
     ]
    },
    {
     "name": "stdout",
     "output_type": "stream",
     "text": [
      "extracting molecule # = 13\nextracting molecule # = 14\nextracting molecule # = 15\nextracting molecule # = 16\nextracting molecule # = 17\nextracting molecule # = 18\nextracting molecule # = 19\nextracting molecule # = 20\nextracting molecule # = 21\nextracting molecule # = 22\nextracting molecule # = 23\nextracting molecule # = 24\nextracting molecule # = 25\nextracting molecule # = 26\nextracting molecule # = 27\nextracting molecule # = 28\nextracting molecule # = 29\nextracting molecule # = 30\nextracting molecule # = 31\nextracting molecule # = 32\n=====================================\n========== z=22 stack ==============\nextracting molecule # = 1\nextracting molecule # = 2\nextracting molecule # = 3\nextracting molecule # = 4\nextracting molecule # = 5\nextracting molecule # = 6\nextracting molecule # = 7\nextracting molecule # = 8\n=====================================\n========== z=23 stack ==============\n"
     ]
    },
    {
     "name": "stdout",
     "output_type": "stream",
     "text": [
      "extracting molecule # = 1\nextracting molecule # = 2\nextracting molecule # = 3\nextracting molecule # = 4\nextracting molecule # = 5\nextracting molecule # = 6\nextracting molecule # = 7\n=====================================\n========== z=24 stack ==============\nextracting molecule # = 1\nextracting molecule # = 2\nextracting molecule # = 3\nextracting molecule # = 4\nextracting molecule # = 5\n"
     ]
    }
   ],
   "source": [
    "# create list of z-planes\n",
    "# each list element is an ndarray of shape (N, x, y), where N is the number of single molecules extracted\n",
    "#   this (N, x, y) represents all single molecules extracted for that z-plane\n",
    "\n",
    "newstack = []\n",
    "for zidx in range(0, stack.shape[0]):\n",
    "    print(\"=====================================\")\n",
    "    print(\"========== z=%s stack ==============\"%zidx)\n",
    "    newstack.append(np.asarray(IDSM(stack[zidx], PeakIntensity, radius)))\n"
   ]
  },
  {
   "cell_type": "code",
   "execution_count": 92,
   "metadata": {
    "collapsed": true
   },
   "outputs": [],
   "source": [
    "# average all single molecules in each z-plane \n",
    "avg_stack = []\n",
    "for zidx in range(0, len(newstack)):\n",
    "    avg_stack.append(np.mean(newstack[zidx], axis=0))\n"
   ]
  },
  {
   "cell_type": "code",
   "execution_count": 70,
   "metadata": {
    "collapsed": true
   },
   "outputs": [
    {
     "data": {
      "text/plain": [
       "<matplotlib.image.AxesImage at 0x11c66f550>"
      ]
     },
     "execution_count": 70,
     "metadata": {},
     "output_type": "execute_result"
    },
    {
     "data": {
      "image/png": "[encoded data removed]",
      "text/plain": [
       "<Figure size 432x288 with 1 Axes>"
      ]
     },
     "metadata": {},
     "output_type": "display_data"
    }
   ],
   "source": [
    "# visualize some planes\n",
    "plt.imshow(avg_stack[22])"
   ]
  },
  {
   "cell_type": "code",
   "execution_count": 93,
   "metadata": {},
   "outputs": [
    {
     "data": {
      "text/plain": [
       "(21, 64, 64)"
      ]
     },
     "execution_count": 93,
     "metadata": {},
     "output_type": "execute_result"
    }
   ],
   "source": [
    "# crop extremes if poor fitting\n",
    "trunc_stack = avg_stack[1:22]\n",
    "trunc_stack = np.asarray(trunc_stack, dtype=np.uint16)[:, :-1, :-1]\n",
    "trunc_stack.shape\n"
   ]
  },
  {
   "cell_type": "code",
   "execution_count": null,
   "metadata": {},
   "outputs": [],
   "source": [
    "# save\n",
    "\n",
    "tifffile.imsave(outfolder+\"/637_64x64_2.tif\", trunc_stack)\n",
    "\n",
    "\n"
   ]
  }
 ],
 "metadata": {
  "kernelspec": {
   "display_name": "Python 2",
   "language": "python",
   "name": "python2"
  },
  "language_info": {
   "codemirror_mode": {
    "name": "ipython",
    "version": 2
   },
   "file_extension": ".py",
   "mimetype": "text/x-python",
   "name": "python",
   "nbconvert_exporter": "python",
   "pygments_lexer": "ipython2",
   "version": "2.7.6"
  }
 },
 "nbformat": 4,
 "nbformat_minor": 0
}
