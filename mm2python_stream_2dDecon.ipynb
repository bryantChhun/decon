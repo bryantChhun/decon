{
 "cells": [
  {
   "cell_type": "code",
   "execution_count": null,
   "metadata": {
    "collapsed": true
   },
   "outputs": [],
   "source": [
    "\"\"\"\n",
    "This notebook attempts to stream deconvolved data to Napari\n",
    "- unfortunately, pycudadecon requires 3d data.\n",
    "- Need to extend this to update per z-stack, perhaps..?\n",
    "\"\"\"\n"
   ]
  },
  {
   "cell_type": "code",
   "execution_count": null,
   "metadata": {
    "collapsed": true
   },
   "outputs": [],
   "source": [
    "\n",
    "%gui qt5\n",
    "from py4j.java_gateway import JavaGateway\n",
    "from napari import ViewerApp\n",
    "import time, os\n",
    "import numpy as np\n",
    "from PyQt5.QtCore import QThreadPool, QRunnable\n",
    "from pycudadecon import decon, make_otf\n",
    "import tifffile\n",
    "\n",
    "from skimage import restoration\n",
    "\n",
    "import warnings\n",
    "warnings.filterwarnings('ignore')\n"
   ]
  },
  {
   "cell_type": "code",
   "execution_count": 52,
   "metadata": {},
   "outputs": [],
   "source": [
    "gate = JavaGateway()\n",
    "viewer = ViewerApp()\n"
   ]
  },
  {
   "cell_type": "code",
   "execution_count": 54,
   "metadata": {},
   "outputs": [],
   "source": [
    "layer1 = viewer.add_image(np.memmap('Q:\\Snap-Live-Stream.dat',\n",
    "                                    dtype=np.uint16, offset=0,\n",
    "                                    mode='r',\n",
    "                                    shape=(2048, 2048)))\n"
   ]
  },
  {
   "cell_type": "code",
   "execution_count": 28,
   "metadata": {},
   "outputs": [],
   "source": [
    "file = 'Q:\\Snap-Live-Stream.dat'\n",
    "psf_path = \"C:\\\\Data\\\\Bryant\\\\PSFs\\\\488_64x64_2D.tif\""
   ]
  },
  {
   "cell_type": "code",
   "execution_count": 12,
   "metadata": {},
   "outputs": [],
   "source": [
    "class ProcessRunnable(QRunnable):\n",
    "    def __init__(self, target, args):\n",
    "        QRunnable.__init__(self)\n",
    "        self.t = target\n",
    "        self.args = args\n",
    "\n",
    "    def run(self):\n",
    "        self.t(*self.args)\n",
    "\n",
    "    def start(self):\n",
    "        QThreadPool.globalInstance().start(self)\n",
    "\n"
   ]
  },
  {
   "cell_type": "code",
   "execution_count": 16,
   "metadata": {},
   "outputs": [],
   "source": [
    "def decon_gpu(image, psf_path):\n",
    "    return decon(image, psf_path)\n",
    "\n",
    "def stream_decon():\n",
    "    count = 0\n",
    "    while True:\n",
    "        time.sleep(0.001)\n",
    "        layer1.image = decon_gpu(\n",
    "            np.memmap('Q:\\Snap-Live-Stream.dat',\n",
    "                      dtype=np.uint16, offset=0,\n",
    "                      shape=(2048, 2048)),\n",
    "            psf_path)\n",
    "        if count >= 10000:\n",
    "            break\n",
    "        count += 1\n"
   ]
  },
  {
   "cell_type": "code",
   "execution_count": 7,
   "metadata": {},
   "outputs": [],
   "source": [
    "r = ProcessRunnable(target=stream_decon, args=())\n",
    "r.start()"
   ]
  },
  {
   "cell_type": "code",
   "execution_count": 52,
   "metadata": {},
   "outputs": [],
   "source": [
    ""
   ]
  },
  {
   "cell_type": "code",
   "execution_count": 55,
   "metadata": {},
   "outputs": [],
   "source": [
    "result = np.asarray(np.memmap('Q:\\Snap-Live-Stream.dat',\n",
    "                      dtype=np.uint16, offset=0,\n",
    "                      shape=(2048, 2048)))"
   ]
  },
  {
   "cell_type": "code",
   "execution_count": 56,
   "metadata": {},
   "outputs": [],
   "source": [
    "psf = tifffile.imread(psf_path)\n"
   ]
  },
  {
   "cell_type": "code",
   "execution_count": 59,
   "metadata": {},
   "outputs": [],
   "source": [
    "out = restoration.richardson_lucy(result, psf, iterations=30)"
   ]
  },
  {
   "cell_type": "code",
   "execution_count": 60,
   "metadata": {},
   "outputs": [],
   "source": [
    "layer1.image = out"
   ]
  },
  {
   "cell_type": "code",
   "execution_count": null,
   "metadata": {},
   "outputs": [],
   "source": []
  }
 ],
 "metadata": {
  "kernelspec": {
   "display_name": "Python 2",
   "language": "python",
   "name": "python2"
  },
  "language_info": {
   "codemirror_mode": {
    "name": "ipython",
    "version": 2
   },
   "file_extension": ".py",
   "mimetype": "text/x-python",
   "name": "python",
   "nbconvert_exporter": "python",
   "pygments_lexer": "ipython2",
   "version": "2.7.6"
  }
 },
 "nbformat": 4,
 "nbformat_minor": 0
}
