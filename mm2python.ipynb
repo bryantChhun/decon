{
 "cells": [
  {
   "cell_type": "code",
   "execution_count": 22,
   "metadata": {
    "collapsed": true
   },
   "outputs": [],
   "source": [
    "# loads a pre-determined set of values in to the meadowlark LC\n",
    "#     uses the mm2python plugin\n",
    "\n",
    "from py4j.java_gateway import JavaGateway\n"
   ]
  },
  {
   "cell_type": "code",
   "execution_count": 23,
   "metadata": {
    "collapsed": true
   },
   "outputs": [],
   "source": [
    "gateway = JavaGateway()\n",
    "mmc = gateway.entry_point.getCMMCore()\n",
    "mm = gateway.entry_point.getStudio()"
   ]
  },
  {
   "cell_type": "code",
   "execution_count": 24,
   "metadata": {
    "collapsed": true
   },
   "outputs": [],
   "source": [
    "settings = {'Pal. elem. 00; enter 0 to define; 1 to activate': (0.295, 0.625),\n",
    "            'Pal. elem. 01; enter 0 to define; 1 to activate': (0.395, 0.625),\n",
    "            'Pal. elem. 02; enter 0 to define; 1 to activate': (0.295, 0.761),\n",
    "            'Pal. elem. 03; enter 0 to define; 1 to activate': (0.295, 0.553),\n",
    "            'Pal. elem. 04; enter 0 to define; 1 to activate': (0.192, 0.625)}\n"
   ]
  },
  {
   "cell_type": "code",
   "execution_count": null,
   "metadata": {},
   "outputs": [],
   "source": [
    "wavelength = 532\n",
    "mmc.setProperty('MeadowlarkLcOpenSource', 'Wavelength', str(wavelength))\n",
    "\n",
    "for key, value in settings.items():\n",
    "    \n",
    "    lca = value[0]\n",
    "    lcb = value[1]\n",
    "\n",
    "    mmc.setProperty('MeadowlarkLcOpenSource', 'Retardance LC-A [in waves]', str(lca))\n",
    "    mmc.setProperty('MeadowlarkLcOpenSource', 'Retardance LC-B [in waves]', str(lcb))\n",
    "\n",
    "    # mmc.setProperty('MeadowlarkLcOpenSource', 'String send to -', \"state0\")\n",
    "    \n",
    "    mmc.setProperty('MeadowlarkLcOpenSource',\n",
    "                    key,\n",
    "                    0)\n"
   ]
  }
 ],
 "metadata": {
  "kernelspec": {
   "display_name": "Python 2",
   "language": "python",
   "name": "python2"
  },
  "language_info": {
   "codemirror_mode": {
    "name": "ipython",
    "version": 2
   },
   "file_extension": ".py",
   "mimetype": "text/x-python",
   "name": "python",
   "nbconvert_exporter": "python",
   "pygments_lexer": "ipython2",
   "version": "2.7.6"
  }
 },
 "nbformat": 4,
 "nbformat_minor": 0
}
